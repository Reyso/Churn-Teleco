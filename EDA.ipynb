{
 "cells": [
  {
   "cell_type": "markdown",
   "metadata": {
    "application/vnd.databricks.v1+cell": {
     "cellMetadata": {},
     "inputWidgets": {},
     "nuid": "1548abb4-efe9-4057-8230-7f2d1186bfd4",
     "showTitle": false,
     "tableResultSettingsMap": {},
     "title": ""
    }
   },
   "source": [
    "## Bibliotecas"
   ]
  },
  {
   "cell_type": "code",
   "execution_count": 0,
   "metadata": {
    "application/vnd.databricks.v1+cell": {
     "cellMetadata": {
      "byteLimit": 2048000,
      "rowLimit": 10000
     },
     "inputWidgets": {},
     "nuid": "675c74ce-313b-4ebe-a6c4-ef8e9b465260",
     "showTitle": false,
     "tableResultSettingsMap": {},
     "title": ""
    }
   },
   "outputs": [],
   "source": [
    "import pyspark.sql.functions as F\n",
    "import pyspark.pandas as ps\n",
    "from pandas.api.types import CategoricalDtype\n",
    "import pandas as pd\n",
    "import numpy as np\n",
    "import matplotlib.pyplot as plt\n",
    "import seaborn as sns\n",
    "import warnings\n",
    "warnings.filterwarnings(\"ignore\")"
   ]
  },
  {
   "cell_type": "code",
   "execution_count": 0,
   "metadata": {
    "application/vnd.databricks.v1+cell": {
     "cellMetadata": {
      "byteLimit": 2048000,
      "rowLimit": 10000
     },
     "inputWidgets": {},
     "nuid": "5956d2ac-1a84-4245-bfa3-625924168378",
     "showTitle": false,
     "tableResultSettingsMap": {},
     "title": ""
    }
   },
   "outputs": [],
   "source": [
    "palette = [\n",
    "    \"#7209B7\",  # roxo intenso\n",
    "    \"#F72585\",  # rosa vibrante\n",
    "    \"#3A0CA3\",  # azul profundo\n",
    "    \"#4CC9F0\",  # azul claro\n",
    "    \"#B5179E\",  # magenta médio (transição suave entre o rosa e o roxo)\n",
    "    \"#4361EE\",  # azul mais vivo, faz ponte com o azul claro\n",
    "    \"#4895EF\",  # azul intermediário, complementa a sequência\n",
    "    \"#560BAD\",  # roxo mais escuro, para profundidade\n",
    "    \"#3F37C9\",  # azul escuro vibrante\n",
    "    \"#F77F00\"   # laranja vibrante para contraste quente\n",
    "]\n",
    "sns.palplot(palette)"
   ]
  },
  {
   "cell_type": "code",
   "execution_count": 0,
   "metadata": {
    "application/vnd.databricks.v1+cell": {
     "cellMetadata": {
      "byteLimit": 2048000,
      "rowLimit": 10000
     },
     "inputWidgets": {},
     "nuid": "e93645f7-675a-4c37-9724-4aa7bd84f310",
     "showTitle": false,
     "tableResultSettingsMap": {},
     "title": ""
    }
   },
   "outputs": [],
   "source": [
    "earth_palette = {\n",
    "    '#2F4F4F', # verde\n",
    "    '#353839', # preto\n",
    "    '#5D8AA8', # azul \n",
    "    '#CC7357', # laranja\n",
    "    '#E6C229', # amarelo\n",
    "    \n",
    "    \n",
    "}\n",
    "sns.palplot(earth_palette)"
   ]
  },
  {
   "cell_type": "code",
   "execution_count": 0,
   "metadata": {
    "application/vnd.databricks.v1+cell": {
     "cellMetadata": {
      "byteLimit": 2048000,
      "rowLimit": 10000
     },
     "inputWidgets": {},
     "nuid": "55a49993-379b-4386-80b5-8e1926d53fcb",
     "showTitle": false,
     "tableResultSettingsMap": {},
     "title": ""
    }
   },
   "outputs": [],
   "source": [
    "plt.style.use('seaborn-v0_8-dark')"
   ]
  },
  {
   "cell_type": "code",
   "execution_count": 0,
   "metadata": {
    "application/vnd.databricks.v1+cell": {
     "cellMetadata": {
      "byteLimit": 2048000,
      "rowLimit": 10000
     },
     "inputWidgets": {},
     "nuid": "39946a12-d0b3-4f92-aaf6-d1c94e483e9b",
     "showTitle": false,
     "tableResultSettingsMap": {},
     "title": ""
    }
   },
   "outputs": [],
   "source": [
    "base_path = 'figs'"
   ]
  },
  {
   "cell_type": "code",
   "execution_count": 0,
   "metadata": {
    "application/vnd.databricks.v1+cell": {
     "cellMetadata": {
      "byteLimit": 2048000,
      "rowLimit": 10000
     },
     "inputWidgets": {},
     "nuid": "01d62528-4ad1-4b39-a4b7-1d60745953a4",
     "showTitle": false,
     "tableResultSettingsMap": {},
     "title": ""
    }
   },
   "outputs": [],
   "source": [
    "# def grafico_chrun_vs_x(data:pd.DataFrame ,x:list ):\n",
    "#     fig = plt.figure(figsize=(8,5))\n",
    "#     ax = sns.barplot(data=data, x=x, y='total', hue='Churn', palette=palette)\n",
    "\n",
    "#     for p in ax.patches:\n",
    "#         height = p.get_height()\n",
    "#         ax.annotate(f'{int(height)}', xy=(p.get_x() + p.get_width() / 2, height),\n",
    "#                     xytext=(0, 1), textcoords='offset points',\n",
    "#                     ha='center', va='bottom', fontsize=10, color='black')\n",
    "\n",
    "#     plt.title(f'{x} x Churn')\n",
    "#     plt.xlabel(x)\n",
    "#     plt.ylabel(\"Quantidade de Churns\")\n",
    "#     plt.legend(title=\"Churn\", bbox_to_anchor=(1, 1), loc=2)\n",
    "    \n",
    "#     return fig"
   ]
  },
  {
   "cell_type": "code",
   "execution_count": 0,
   "metadata": {
    "application/vnd.databricks.v1+cell": {
     "cellMetadata": {
      "byteLimit": 2048000,
      "rowLimit": 10000
     },
     "inputWidgets": {},
     "nuid": "43d84f3b-f362-4482-9cc4-1d14714e4c48",
     "showTitle": false,
     "tableResultSettingsMap": {},
     "title": ""
    }
   },
   "outputs": [],
   "source": [
    "def grafico_churn_vs_x(df: pd.DataFrame, x: str, pallet:list = earth_palette ):\n",
    "    \"\"\"\n",
    "    Cria um gráfico de barras APENAS com a porcentagem no centro.\n",
    "    Versão corrigida para evitar o erro de indexação.\n",
    "    \"\"\"\n",
    "    # Pré-processamento\n",
    "    grouped = df.groupby([x, 'Churn'])['total'].sum().unstack()\n",
    "    percentages = (grouped.div(grouped.sum(axis=1), axis=0) * 100).round(1)\n",
    "    \n",
    "    # Plot\n",
    "    fig, ax = plt.subplots(figsize=(8, 5))\n",
    "    bars = grouped.plot(\n",
    "        kind='bar', \n",
    "        ax=ax, \n",
    "        width=0.7, \n",
    "        color=['#353839', '#5D8AA8'],\n",
    "        edgecolor='white'\n",
    "    )\n",
    "\n",
    "    # Adiciona porcentagens no centro\n",
    "    for i, bar in enumerate(bars.containers):  # i=0 para \"No\", i=1 para \"Yes\"\n",
    "        for j, rect in enumerate(bar.patches):  # j é o índice da categoria\n",
    "            height = rect.get_height()\n",
    "            if height > 0:\n",
    "                # Obtém a porcentagem correta usando índices inteiros\n",
    "                percent = percentages.iat[j, i]\n",
    "                ax.text(\n",
    "                    rect.get_x() + rect.get_width() / 2,\n",
    "                    height / 2,\n",
    "                    f'{percent}%',\n",
    "                    ha='center', \n",
    "                    va='center',\n",
    "                    color='white',\n",
    "                    fontsize=12,\n",
    "                    fontweight='bold'\n",
    "                )\n",
    "\n",
    "    # Formatação\n",
    "    ax.set_title(f'Churn por {x} (%)', pad=20)\n",
    "    ax.set_xlabel(x)\n",
    "    ax.set_ylabel(\"Total\")\n",
    "    ax.legend(title=\"Churn\", bbox_to_anchor=(1.05, 1))\n",
    "    plt.tight_layout()\n",
    "    \n",
    "    return fig"
   ]
  },
  {
   "cell_type": "code",
   "execution_count": 0,
   "metadata": {
    "application/vnd.databricks.v1+cell": {
     "cellMetadata": {
      "byteLimit": 2048000,
      "rowLimit": 10000
     },
     "inputWidgets": {},
     "nuid": "7d2f26e1-9a66-422b-a318-8c976dfe7a59",
     "showTitle": false,
     "tableResultSettingsMap": {},
     "title": ""
    }
   },
   "outputs": [],
   "source": [
    "def grafico_churn_vs_x(df: pd.DataFrame, x: str):\n",
    "    \"\"\"\n",
    "    Versão final com:\n",
    "    - Barras empilhadas finas (largura fixa)\n",
    "    - Porcentagens perfeitamente centralizadas\n",
    "    - Valores absolutos discretos no topo\n",
    "    - Cores contrastantes\n",
    "    \"\"\"\n",
    "    # Pré-processamento\n",
    "    grouped = df.groupby([x, 'Churn'])['total'].sum().unstack()\n",
    "    percentages = (grouped.div(grouped.sum(axis=1), axis=0) * 100).round(1)\n",
    "    totals = grouped.sum(axis=1)\n",
    "    \n",
    "    # Cores e configurações\n",
    "    palette = {'No': '#353839', 'Yes': '#5D8AA8'}  # Azul profundo/Magenta\n",
    "    bar_width = 0.05  # Aumentei a largura para preencher mais espaço\n",
    "    group_spacing = 0.05  # Reduzi o espaço entre grupos\n",
    "    \n",
    "    # Plot\n",
    "    fig, ax = plt.subplots(figsize=(8, 6))\n",
    "    x_pos = np.arange(len(grouped)) * (bar_width + group_spacing)  # Posições X ajustadas\n",
    "    \n",
    "     \n",
    "    # Barras empilhadas\n",
    "    bottom = None\n",
    "    for col in ['No', 'Yes']:\n",
    "        ax.bar(\n",
    "            x=x_pos,\n",
    "            height=percentages[col],\n",
    "            width=bar_width,\n",
    "            bottom=bottom,\n",
    "            color=palette[col],\n",
    "            edgecolor='white',\n",
    "            label=col\n",
    "        )\n",
    "        bottom = percentages[col] if bottom is None else bottom + percentages[col]\n",
    "    \n",
    "    # Rótulos\n",
    "    for i, (category, pos) in enumerate(zip(grouped.index, x_pos)):\n",
    "        # Porcentagens\n",
    "        ax.text(\n",
    "            pos, percentages.loc[category, 'No']/2,\n",
    "            f\"{percentages.loc[category, 'No']}%\",\n",
    "            ha='center', va='center',\n",
    "            color='white', fontsize=10, fontweight='bold'\n",
    "        )\n",
    "        ax.text(\n",
    "            pos, percentages.loc[category, 'No'] + percentages.loc[category, 'Yes']/2,\n",
    "            f\"{percentages.loc[category, 'Yes']}%\",\n",
    "            ha='center', va='center',\n",
    "            color='white', fontsize=10, fontweight='bold'\n",
    "        )\n",
    "        \n",
    "        # Valores absolutos\n",
    "        ax.text(\n",
    "            pos, 102,\n",
    "            f\"Total: {int(totals.loc[category])}\",\n",
    "            ha='center', va='bottom',\n",
    "            color='black', fontsize=8,\n",
    "            bbox=dict(facecolor='white', alpha=0.7, pad=1, edgecolor='none')\n",
    "        )\n",
    "    \n",
    "    # Formatação final\n",
    "    ax.set_xticks(x_pos)\n",
    "    ax.set_xticklabels(grouped.index)\n",
    "    ax.set_ylim(0, 110)\n",
    "    ax.set_ylabel(\"Porcentagem\")\n",
    "    ax.set_title(f'Churn por {x} (%)', pad=20)\n",
    "    ax.legend(title=\"Churn\", bbox_to_anchor=(1.05, 1))\n",
    "    plt.tight_layout()\n",
    "    \n",
    "    return fig"
   ]
  },
  {
   "cell_type": "markdown",
   "metadata": {
    "application/vnd.databricks.v1+cell": {
     "cellMetadata": {},
     "inputWidgets": {},
     "nuid": "b8c28387-febd-4d31-9549-9d4fff4e4465",
     "showTitle": false,
     "tableResultSettingsMap": {},
     "title": ""
    }
   },
   "source": [
    "## Importando dataframe"
   ]
  },
  {
   "cell_type": "code",
   "execution_count": 0,
   "metadata": {
    "application/vnd.databricks.v1+cell": {
     "cellMetadata": {
      "byteLimit": 2048000,
      "implicitDf": true,
      "rowLimit": 10000
     },
     "collapsed": true,
     "inputWidgets": {},
     "nuid": "34dcd9cc-3868-474b-81e5-1e3a2a7bbbbf",
     "showTitle": false,
     "tableResultSettingsMap": {},
     "title": ""
    }
   },
   "outputs": [],
   "source": [
    "%sql\n",
    "\n",
    "SELECT * FROM telecom.silver.teleco_cleaned\n",
    "LIMIT 10;"
   ]
  },
  {
   "cell_type": "markdown",
   "metadata": {
    "application/vnd.databricks.v1+cell": {
     "cellMetadata": {},
     "inputWidgets": {},
     "nuid": "9e2ea174-9224-4f88-a3e1-d6abaebf47f9",
     "showTitle": false,
     "tableResultSettingsMap": {},
     "title": ""
    }
   },
   "source": [
    "# Analise 1 - Grupos de clientes"
   ]
  },
  {
   "cell_type": "markdown",
   "metadata": {
    "application/vnd.databricks.v1+cell": {
     "cellMetadata": {},
     "inputWidgets": {},
     "nuid": "d0b4c543-d8df-413c-83f3-9a9b0ae835fa",
     "showTitle": false,
     "tableResultSettingsMap": {},
     "title": ""
    }
   },
   "source": [
    "vamos verificar a relação dos tipos de cliente com a variável alvo\n",
    "\n",
    "(gender | SeniorCitizen | Partner | Dependents |)  VS  chrun"
   ]
  },
  {
   "cell_type": "markdown",
   "metadata": {
    "application/vnd.databricks.v1+cell": {
     "cellMetadata": {},
     "inputWidgets": {},
     "nuid": "39487bc5-f103-44af-9f5b-b974070bf35e",
     "showTitle": false,
     "tableResultSettingsMap": {},
     "title": ""
    }
   },
   "source": [
    "## Gender x Chrun"
   ]
  },
  {
   "cell_type": "code",
   "execution_count": 0,
   "metadata": {
    "application/vnd.databricks.v1+cell": {
     "cellMetadata": {
      "byteLimit": 2048000,
      "implicitDf": true,
      "rowLimit": 10000
     },
     "inputWidgets": {},
     "nuid": "5942c654-9b6f-49da-acc3-d8fe5c41d968",
     "showTitle": false,
     "tableResultSettingsMap": {},
     "title": ""
    }
   },
   "outputs": [],
   "source": [
    "%sql\n",
    "\n",
    "    SELECT \n",
    "    gender,\n",
    "    SUM(CASE WHEN churn = 'Yes' THEN 1 ELSE 0 END) AS churned,\n",
    "    SUM(CASE WHEN churn = 'No' THEN 1 ELSE 0 END) AS not_churned\n",
    "    FROM telecom.silver.teleco_cleaned\n",
    "    GROUP BY gender\n",
    "    ORDER BY gender;"
   ]
  },
  {
   "cell_type": "code",
   "execution_count": 0,
   "metadata": {
    "application/vnd.databricks.v1+cell": {
     "cellMetadata": {
      "byteLimit": 2048000,
      "rowLimit": 10000
     },
     "inputWidgets": {},
     "nuid": "6d8d4016-e4bc-4306-8951-e2e46b0315cd",
     "showTitle": false,
     "tableResultSettingsMap": {},
     "title": ""
    }
   },
   "outputs": [],
   "source": [
    "df_churn_by_gender = spark.sql(\"\"\"\n",
    "                               \n",
    "    SELECT \n",
    "    gender,\n",
    "    SUM(CASE WHEN churn = 'Yes' THEN 1 ELSE 0 END) AS Yes,\n",
    "    SUM(CASE WHEN churn = 'No' THEN 1 ELSE 0 END) AS No\n",
    "    FROM telecom.silver.teleco_cleaned\n",
    "    GROUP BY gender\n",
    "    ORDER BY gender;\n",
    "\n",
    "\n",
    "\"\"\"\n",
    ").toPandas()"
   ]
  },
  {
   "cell_type": "markdown",
   "metadata": {
    "application/vnd.databricks.v1+cell": {
     "cellMetadata": {},
     "inputWidgets": {},
     "nuid": "5ba8332e-95fc-4467-83dc-10bb740d12f4",
     "showTitle": false,
     "tableResultSettingsMap": {},
     "title": ""
    }
   },
   "source": [
    "unpivot no dataframe, para conseguirmos extrair o quantidade churn e não churn por gênero."
   ]
  },
  {
   "cell_type": "code",
   "execution_count": 0,
   "metadata": {
    "application/vnd.databricks.v1+cell": {
     "cellMetadata": {
      "byteLimit": 2048000,
      "rowLimit": 10000
     },
     "inputWidgets": {},
     "nuid": "fd33a734-bd96-44b3-9abc-59601cbcea80",
     "showTitle": false,
     "tableResultSettingsMap": {},
     "title": ""
    }
   },
   "outputs": [],
   "source": [
    "df_churn_by_gender = df_churn_by_gender.melt(\n",
    "    id_vars='gender',\n",
    "    value_vars=['Yes','No'],\n",
    "    var_name='Churn',value_name='total')\n",
    "\n",
    "print(df_churn_by_gender)"
   ]
  },
  {
   "cell_type": "code",
   "execution_count": 0,
   "metadata": {
    "application/vnd.databricks.v1+cell": {
     "cellMetadata": {
      "byteLimit": 2048000,
      "rowLimit": 10000
     },
     "inputWidgets": {},
     "nuid": "a1aa530a-e794-4bf0-8e69-5ed0e94b4947",
     "showTitle": false,
     "tableResultSettingsMap": {},
     "title": ""
    }
   },
   "outputs": [],
   "source": [
    "fig_churn_gen = grafico_churn_vs_x(df_churn_by_gender,'gender')\n",
    "fig_churn_gen.savefig(base_path+'/churn_by_gender.png', format = 'png')\n",
    "# plt.close()\n"
   ]
  },
  {
   "cell_type": "markdown",
   "metadata": {
    "application/vnd.databricks.v1+cell": {
     "cellMetadata": {},
     "inputWidgets": {},
     "nuid": "ac266801-686a-4994-a122-9053e3a63287",
     "showTitle": false,
     "tableResultSettingsMap": {},
     "title": ""
    }
   },
   "source": [
    "## SeniorCitizen x Churn"
   ]
  },
  {
   "cell_type": "code",
   "execution_count": 0,
   "metadata": {
    "application/vnd.databricks.v1+cell": {
     "cellMetadata": {
      "byteLimit": 2048000,
      "rowLimit": 10000
     },
     "inputWidgets": {},
     "nuid": "910802ae-eda9-4d73-a905-ab6f24f97fd0",
     "showTitle": false,
     "tableResultSettingsMap": {},
     "title": ""
    }
   },
   "outputs": [],
   "source": [
    "df_churn_by_senior = spark.sql(\"\"\"\n",
    "                               \n",
    "       SELECT SeniorCitizen,\n",
    "       SUM(CASE WHEN churn = 'Yes' THEN 1 ELSE 0 END) AS Yes,\n",
    "       SUM(CASE WHEN churn = 'No' THEN 1 ELSE 0 END )AS No\n",
    "       FROM telecom.silver.teleco_cleaned\n",
    "       GROUP BY SeniorCitizen\n",
    "\"\"\"\n",
    ").toPandas()"
   ]
  },
  {
   "cell_type": "code",
   "execution_count": 0,
   "metadata": {
    "application/vnd.databricks.v1+cell": {
     "cellMetadata": {
      "byteLimit": 2048000,
      "rowLimit": 10000
     },
     "inputWidgets": {},
     "nuid": "d3886ffe-9b33-4c77-aded-2a8d289f00fa",
     "showTitle": false,
     "tableResultSettingsMap": {},
     "title": ""
    }
   },
   "outputs": [],
   "source": [
    "df_churn_by_senior = df_churn_by_senior.melt(id_vars = 'SeniorCitizen' , value_vars=['Yes','No'], var_name='Churn', value_name='total')\n"
   ]
  },
  {
   "cell_type": "code",
   "execution_count": 0,
   "metadata": {
    "application/vnd.databricks.v1+cell": {
     "cellMetadata": {
      "byteLimit": 2048000,
      "rowLimit": 10000
     },
     "inputWidgets": {},
     "nuid": "b275dc23-cb17-48cb-881b-94c68bf4eb2a",
     "showTitle": false,
     "tableResultSettingsMap": {},
     "title": ""
    }
   },
   "outputs": [],
   "source": [
    "\n",
    "fig_churn_senior = grafico_churn_vs_x(df_churn_by_senior,'SeniorCitizen') \n",
    "fig_churn_senior.savefig(base_path+'/churn_by_senior.png', format = 'png')\n",
    "# plt.close()\n"
   ]
  },
  {
   "cell_type": "code",
   "execution_count": 0,
   "metadata": {
    "application/vnd.databricks.v1+cell": {
     "cellMetadata": {},
     "inputWidgets": {},
     "nuid": "f2a361e4-443b-455e-aa23-f243be95be56",
     "showTitle": false,
     "tableResultSettingsMap": {},
     "title": ""
    }
   },
   "outputs": [],
   "source": [
    "%sql\n",
    "SELECT "
   ]
  },
  {
   "cell_type": "markdown",
   "metadata": {
    "application/vnd.databricks.v1+cell": {
     "cellMetadata": {},
     "inputWidgets": {},
     "nuid": "6d95a19d-4bfd-4c98-a352-b870ae956b8a",
     "showTitle": false,
     "tableResultSettingsMap": {},
     "title": ""
    }
   },
   "source": [
    "## Partner x Chrun"
   ]
  },
  {
   "cell_type": "code",
   "execution_count": 0,
   "metadata": {
    "application/vnd.databricks.v1+cell": {
     "cellMetadata": {
      "byteLimit": 2048000,
      "implicitDf": true,
      "rowLimit": 10000
     },
     "collapsed": true,
     "inputWidgets": {},
     "nuid": "54fd522b-0410-4700-9591-8520ab715498",
     "showTitle": false,
     "tableResultSettingsMap": {},
     "title": ""
    }
   },
   "outputs": [],
   "source": [
    "%sql\n",
    "\n",
    "    SELECT Partner,\n",
    "    SUM (CASE WHEN churn = 'Yes' THEN 1 ELSE 0 END) AS Yes,\n",
    "    SUM (CASE WHEN churn = 'No' THEN 1 ELSE 0 END) AS No\n",
    "    FROM telecom.silver.teleco_cleaned\n",
    "    GROUP BY Partner\n",
    "    ORDER BY Partner"
   ]
  },
  {
   "cell_type": "code",
   "execution_count": 0,
   "metadata": {
    "application/vnd.databricks.v1+cell": {
     "cellMetadata": {
      "byteLimit": 2048000,
      "rowLimit": 10000
     },
     "collapsed": true,
     "inputWidgets": {},
     "nuid": "867d3aac-1398-4ee3-b669-5a6c525ff734",
     "showTitle": false,
     "tableResultSettingsMap": {},
     "title": ""
    }
   },
   "outputs": [],
   "source": [
    "df_churn_by_partner = spark.sql(\"\"\"\n",
    "    SELECT Partner,\n",
    "    SUM (CASE WHEN churn = 'Yes' THEN 1 ELSE 0 END) AS Yes,\n",
    "    SUM (CASE WHEN churn = 'No' THEN 1 ELSE 0 END) AS No\n",
    "    FROM telecom.silver.teleco_cleaned\n",
    "    GROUP BY Partner\n",
    "    ORDER BY Partner\n",
    "\"\"\").toPandas()\n"
   ]
  },
  {
   "cell_type": "code",
   "execution_count": 0,
   "metadata": {
    "application/vnd.databricks.v1+cell": {
     "cellMetadata": {
      "byteLimit": 2048000,
      "rowLimit": 10000
     },
     "inputWidgets": {},
     "nuid": "77f69b10-057f-4c67-8524-714c98967e5d",
     "showTitle": false,
     "tableResultSettingsMap": {},
     "title": ""
    }
   },
   "outputs": [],
   "source": [
    "df_churn_by_partner = df_churn_by_partner.melt(id_vars='Partner', value_vars=['Yes','No'], var_name='Churn', value_name='total')"
   ]
  },
  {
   "cell_type": "code",
   "execution_count": 0,
   "metadata": {
    "application/vnd.databricks.v1+cell": {
     "cellMetadata": {
      "byteLimit": 2048000,
      "rowLimit": 10000
     },
     "inputWidgets": {},
     "nuid": "e51b76f4-8b06-4baf-8c3d-6804c85fc8b0",
     "showTitle": false,
     "tableResultSettingsMap": {},
     "title": ""
    }
   },
   "outputs": [],
   "source": [
    "df_churn_by_partner = grafico_churn_vs_x(df_churn_by_partner,'Partner') \n",
    "df_churn_by_partner.savefig(base_path+'/churn_by_partner.png', format = 'png')\n",
    "# plt.close()"
   ]
  },
  {
   "cell_type": "markdown",
   "metadata": {
    "application/vnd.databricks.v1+cell": {
     "cellMetadata": {},
     "inputWidgets": {},
     "nuid": "2bcc1553-3706-484a-ae4f-495357b4b5c9",
     "showTitle": false,
     "tableResultSettingsMap": {},
     "title": ""
    }
   },
   "source": [
    "## Dependents x Chrun"
   ]
  },
  {
   "cell_type": "code",
   "execution_count": 0,
   "metadata": {
    "application/vnd.databricks.v1+cell": {
     "cellMetadata": {
      "byteLimit": 2048000,
      "implicitDf": true,
      "rowLimit": 10000
     },
     "inputWidgets": {},
     "nuid": "29153f57-a49b-4d17-a8b8-46fe58e03cec",
     "showTitle": false,
     "tableResultSettingsMap": {},
     "title": ""
    }
   },
   "outputs": [],
   "source": [
    "%sql\n",
    "\n",
    "    SELECT Dependents,\n",
    "    SUM (CASE WHEN churn = 'Yes' THEN 1 ELSE 0 END) AS Yes,\n",
    "    SUM (CASE WHEN churn = 'No' THEN 1 ELSE 0 END) AS No\n",
    "    FROM telecom.silver.teleco_cleaned\n",
    "    GROUP BY Dependents\n",
    "    ORDER BY Dependents"
   ]
  },
  {
   "cell_type": "code",
   "execution_count": 0,
   "metadata": {
    "application/vnd.databricks.v1+cell": {
     "cellMetadata": {
      "byteLimit": 2048000,
      "rowLimit": 10000
     },
     "inputWidgets": {},
     "nuid": "9a11bcf6-ff98-4b95-9e9c-f7407252ee55",
     "showTitle": false,
     "tableResultSettingsMap": {},
     "title": ""
    }
   },
   "outputs": [],
   "source": [
    "df_churn_by_dep = spark.sql(\n",
    "\"\"\"\n",
    "\n",
    "    SELECT Dependents,\n",
    "    SUM (CASE WHEN churn = 'Yes' THEN 1 ELSE 0 END) AS Yes,\n",
    "    SUM (CASE WHEN churn = 'No' THEN 1 ELSE 0 END) AS No\n",
    "    FROM telecom.silver.teleco_cleaned\n",
    "    GROUP BY Dependents\n",
    "    ORDER BY Dependents\n",
    "\n",
    "\n",
    "\"\"\").toPandas()\n",
    "df_churn_by_dep"
   ]
  },
  {
   "cell_type": "code",
   "execution_count": 0,
   "metadata": {
    "application/vnd.databricks.v1+cell": {
     "cellMetadata": {
      "byteLimit": 2048000,
      "rowLimit": 10000
     },
     "inputWidgets": {},
     "nuid": "a92dd57b-5d7f-456c-9ca3-ce3f0b705d94",
     "showTitle": false,
     "tableResultSettingsMap": {},
     "title": ""
    }
   },
   "outputs": [],
   "source": [
    "df_churn_by_dep = df_churn_by_dep.melt(id_vars='Dependents', value_vars=['Yes','No'], var_name='Churn', value_name='total')\n",
    "df_churn_by_dep"
   ]
  },
  {
   "cell_type": "code",
   "execution_count": 0,
   "metadata": {
    "application/vnd.databricks.v1+cell": {
     "cellMetadata": {
      "byteLimit": 2048000,
      "rowLimit": 10000
     },
     "inputWidgets": {},
     "nuid": "f132bfa3-ba85-47e0-a8fb-d37e604ebe9a",
     "showTitle": false,
     "tableResultSettingsMap": {},
     "title": ""
    }
   },
   "outputs": [],
   "source": [
    "grafico_chrun_vs_x(df_churn_by_dep,'Dependents')"
   ]
  },
  {
   "cell_type": "code",
   "execution_count": 0,
   "metadata": {
    "application/vnd.databricks.v1+cell": {
     "cellMetadata": {
      "byteLimit": 2048000,
      "rowLimit": 10000
     },
     "inputWidgets": {},
     "nuid": "1f9fadb0-e221-41b1-bb69-cdc790588bdb",
     "showTitle": false,
     "tableResultSettingsMap": {},
     "title": ""
    }
   },
   "outputs": [],
   "source": [
    "fig_churn_dep = grafico_churn_vs_x(df_churn_by_dep,'Dependents') \n",
    "fig_churn_dep.savefig(base_path+'/churn_by_dep.png', format = 'png')\n",
    "# plt.close()"
   ]
  },
  {
   "cell_type": "markdown",
   "metadata": {
    "application/vnd.databricks.v1+cell": {
     "cellMetadata": {},
     "inputWidgets": {},
     "nuid": "edb1010c-ed89-4a6f-94e3-3df76f260ef5",
     "showTitle": false,
     "tableResultSettingsMap": {},
     "title": ""
    }
   },
   "source": [
    "## Contrato\n"
   ]
  },
  {
   "cell_type": "code",
   "execution_count": 0,
   "metadata": {
    "application/vnd.databricks.v1+cell": {
     "cellMetadata": {
      "byteLimit": 2048000,
      "rowLimit": 10000
     },
     "inputWidgets": {},
     "nuid": "1a1200d4-d062-4867-be3f-d890799a3964",
     "showTitle": false,
     "tableResultSettingsMap": {},
     "title": ""
    }
   },
   "outputs": [],
   "source": [
    "## Distribuição de churn por tipo de contrato\n",
    "\n",
    "df_contrato = spark.sql(\"\"\"\n",
    "\n",
    "    SELECT Contract,\n",
    "           SUM(CASE WHEN Churn = 'Yes' THEN 1 ELSE 0 END) AS churned\n",
    "        --    SUM(CASE WHEN Churn = 'No' THEN 1 ELSE 0 END) AS No\n",
    "    FROM telecom.silver.teleco_cleaned\n",
    "    GROUP BY Contract\n",
    "    ORDER BY Contract\n",
    "\n",
    "\n",
    "\n",
    "\"\"\").toPandas()\n",
    "df_contrato"
   ]
  },
  {
   "cell_type": "code",
   "execution_count": 0,
   "metadata": {
    "application/vnd.databricks.v1+cell": {
     "cellMetadata": {
      "byteLimit": 2048000,
      "rowLimit": 10000
     },
     "inputWidgets": {},
     "nuid": "27ee44ba-8997-44e0-bca6-58759bb14676",
     "showTitle": false,
     "tableResultSettingsMap": {},
     "title": ""
    }
   },
   "outputs": [],
   "source": [
    "\n",
    "\n",
    "# Ordena os contratos do maior para o menor número de churn\n",
    "df_churn_by_contract = df_contrato.sort_values(by=\"churned\", ascending=False)\n",
    "\n",
    "plt.figure(figsize=(6, 5))\n",
    "ax = sns.barplot(data=df_churn_by_contract, x=\"Contract\", y=\"churned\", palette=earth_palette)\n",
    "# plt.legend(bbox_to_anchor=(1.05, 1), loc=2, borderaxespad=0)\n",
    "\n",
    "\n",
    "for p in ax.patches:\n",
    "    height = p.get_height()\n",
    "    ax.annotate(f'{int(height)}', xy=(p.get_x() + p.get_width() / 2, height),\n",
    "                xytext=(0, 1), textcoords='offset points',\n",
    "                ha='center', va='bottom', fontsize=10, color='black')\n",
    "\n",
    "plt.title(\"Número de Clientes que Deram Churn por Tipo de Contrato\")\n",
    "plt.xlabel(\"Tipo de Contrato\")\n",
    "plt.ylabel(\"Quantidade de Churns\")\n",
    "\n",
    "\n",
    "\n",
    "\n",
    "plt.tight_layout()\n",
    "\n",
    "plt.savefig(base_path+'/churn_by_contract.png', format = 'png')\n",
    "plt.show()"
   ]
  },
  {
   "cell_type": "markdown",
   "metadata": {
    "application/vnd.databricks.v1+cell": {
     "cellMetadata": {},
     "inputWidgets": {},
     "nuid": "b5aa3fe9-958a-4769-9e5e-a47f4646efff",
     "showTitle": false,
     "tableResultSettingsMap": {},
     "title": ""
    }
   },
   "source": [
    "# Grupo 2"
   ]
  },
  {
   "cell_type": "markdown",
   "metadata": {
    "application/vnd.databricks.v1+cell": {
     "cellMetadata": {},
     "inputWidgets": {},
     "nuid": "a8e0cf46-4e5d-426d-b4b9-08a886197b28",
     "showTitle": false,
     "tableResultSettingsMap": {},
     "title": ""
    }
   },
   "source": [
    "## Serviços por Consumidor\n",
    "\n",
    "PhoneService | MultipleLines | InternetService | StreamingTV | StreamingMovies |"
   ]
  },
  {
   "cell_type": "markdown",
   "metadata": {
    "application/vnd.databricks.v1+cell": {
     "cellMetadata": {},
     "inputWidgets": {},
     "nuid": "d01aece1-4624-410b-9bc5-39c277793ba4",
     "showTitle": false,
     "tableResultSettingsMap": {},
     "title": ""
    }
   },
   "source": [
    "### PhoneService"
   ]
  },
  {
   "cell_type": "code",
   "execution_count": 0,
   "metadata": {
    "application/vnd.databricks.v1+cell": {
     "cellMetadata": {
      "byteLimit": 2048000,
      "implicitDf": true,
      "rowLimit": 10000
     },
     "inputWidgets": {},
     "nuid": "a1a24ac6-3849-4adc-807e-37854ce7092b",
     "showTitle": false,
     "tableResultSettingsMap": {},
     "title": ""
    }
   },
   "outputs": [],
   "source": [
    "%sql\n",
    "\n",
    "SELECT PhoneService,\n",
    "    SUM ( CASE WHEN churn = 'Yes' THEN 1 ELSE 0 END) AS Yes,\n",
    "    SUM ( CASE WHEN churn = 'No' THEN 1 ELSE 0 END) AS No\n",
    "FROM telecom.silver.teleco_cleaned\n",
    "GROUP BY PhoneService\n",
    "ORDER BY COUNT(Churn);"
   ]
  },
  {
   "cell_type": "code",
   "execution_count": 0,
   "metadata": {
    "application/vnd.databricks.v1+cell": {
     "cellMetadata": {
      "byteLimit": 2048000,
      "rowLimit": 10000
     },
     "inputWidgets": {},
     "nuid": "4aa1981a-3a28-4850-9175-de419c8ef951",
     "showTitle": false,
     "tableResultSettingsMap": {},
     "title": ""
    }
   },
   "outputs": [],
   "source": [
    "df_phone = spark.sql(\"\"\"\n",
    "                     \n",
    "SELECT PhoneService,\n",
    "    SUM ( CASE WHEN churn = 'Yes' THEN 1 ELSE 0 END) AS Yes,\n",
    "    SUM ( CASE WHEN churn = 'No' THEN 1 ELSE 0 END) AS No\n",
    "FROM telecom.silver.teleco_cleaned\n",
    "GROUP BY PhoneService\n",
    "ORDER BY COUNT(Churn);\n",
    "                     \"\"\").toPandas()"
   ]
  },
  {
   "cell_type": "code",
   "execution_count": 0,
   "metadata": {
    "application/vnd.databricks.v1+cell": {
     "cellMetadata": {
      "byteLimit": 2048000,
      "rowLimit": 10000
     },
     "inputWidgets": {},
     "nuid": "d6f1ec44-c482-4e5e-a57c-7d90f81c837d",
     "showTitle": false,
     "tableResultSettingsMap": {},
     "title": ""
    }
   },
   "outputs": [],
   "source": [
    "df_phone = df_phone.melt(id_vars= 'PhoneService', value_vars= ['Yes','No'], var_name='Churn', value_name='total')"
   ]
  },
  {
   "cell_type": "code",
   "execution_count": 0,
   "metadata": {
    "application/vnd.databricks.v1+cell": {
     "cellMetadata": {
      "byteLimit": 2048000,
      "rowLimit": 10000
     },
     "inputWidgets": {},
     "nuid": "52103635-fab4-4f0e-b37f-ca9af46c9070",
     "showTitle": false,
     "tableResultSettingsMap": {},
     "title": ""
    }
   },
   "outputs": [],
   "source": [
    "fig_churn_phone = grafico_churn_vs_x(df_phone,'PhoneService')\n",
    "fig_churn_phone.savefig(base_path+'/churn_by_phone.png', format = 'png')\n",
    "# plt.close()"
   ]
  },
  {
   "cell_type": "markdown",
   "metadata": {
    "application/vnd.databricks.v1+cell": {
     "cellMetadata": {},
     "inputWidgets": {},
     "nuid": "0ec2f463-c46a-4ad0-ab66-04db56f6e9d2",
     "showTitle": false,
     "tableResultSettingsMap": {},
     "title": ""
    }
   },
   "source": [
    "### MultipleLines"
   ]
  },
  {
   "cell_type": "code",
   "execution_count": 0,
   "metadata": {
    "application/vnd.databricks.v1+cell": {
     "cellMetadata": {
      "byteLimit": 2048000,
      "rowLimit": 10000
     },
     "inputWidgets": {},
     "nuid": "2b5455f8-4e20-4389-bc33-12513ef9057a",
     "showTitle": false,
     "tableResultSettingsMap": {},
     "title": ""
    }
   },
   "outputs": [],
   "source": [
    "df_MultipleLines = spark.sql(\"\"\"\n",
    "                     \n",
    "SELECT MultipleLines,\n",
    "    SUM ( CASE WHEN churn = 'Yes' THEN 1 ELSE 0 END) AS Yes,\n",
    "    SUM ( CASE WHEN churn = 'No' THEN 1 ELSE 0 END) AS No\n",
    "FROM telecom.silver.teleco_cleaned\n",
    "GROUP BY MultipleLines\n",
    "ORDER BY COUNT(Churn);\n",
    "                     \"\"\").toPandas()\n"
   ]
  },
  {
   "cell_type": "code",
   "execution_count": 0,
   "metadata": {
    "application/vnd.databricks.v1+cell": {
     "cellMetadata": {
      "byteLimit": 2048000,
      "rowLimit": 10000
     },
     "inputWidgets": {},
     "nuid": "660a2c9d-b858-41be-b281-b5e0ad11860b",
     "showTitle": false,
     "tableResultSettingsMap": {},
     "title": ""
    }
   },
   "outputs": [],
   "source": [
    "df_MultipleLines = df_MultipleLines.melt(id_vars= 'MultipleLines', value_vars= ['Yes','No'], var_name='Churn', value_name='total')\n",
    "fig_churn_MultipleLines = grafico_churn_vs_x(df_MultipleLines,'MultipleLines')\n",
    "fig_churn_MultipleLines.savefig(base_path+'/churn_by_MultipleLines.png', format = 'png')\n",
    "# plt.close()"
   ]
  },
  {
   "cell_type": "markdown",
   "metadata": {
    "application/vnd.databricks.v1+cell": {
     "cellMetadata": {},
     "inputWidgets": {},
     "nuid": "59fe8e3f-7295-45d2-b4fc-d9a27e1a8997",
     "showTitle": false,
     "tableResultSettingsMap": {},
     "title": ""
    }
   },
   "source": [
    "### InternetService"
   ]
  },
  {
   "cell_type": "code",
   "execution_count": 0,
   "metadata": {
    "application/vnd.databricks.v1+cell": {
     "cellMetadata": {
      "byteLimit": 2048000,
      "rowLimit": 10000
     },
     "inputWidgets": {},
     "nuid": "4c0e4d6d-4ed7-4537-8226-f4b7d08e148a",
     "showTitle": false,
     "tableResultSettingsMap": {},
     "title": ""
    }
   },
   "outputs": [],
   "source": [
    "df_InternetService = spark.sql(\"\"\"\n",
    "                     \n",
    "SELECT InternetService,\n",
    "    SUM ( CASE WHEN churn = 'Yes' THEN 1 ELSE 0 END) AS Yes,\n",
    "    SUM ( CASE WHEN churn = 'No' THEN 1 ELSE 0 END) AS No\n",
    "FROM telecom.silver.teleco_cleaned\n",
    "GROUP BY InternetService\n",
    "ORDER BY COUNT(Churn);\n",
    "                     \"\"\").toPandas()"
   ]
  },
  {
   "cell_type": "code",
   "execution_count": 0,
   "metadata": {
    "application/vnd.databricks.v1+cell": {
     "cellMetadata": {
      "byteLimit": 2048000,
      "rowLimit": 10000
     },
     "inputWidgets": {},
     "nuid": "c8c56481-d0e7-4f76-9389-3092d15143d5",
     "showTitle": false,
     "tableResultSettingsMap": {},
     "title": ""
    }
   },
   "outputs": [],
   "source": [
    "df_InternetService"
   ]
  },
  {
   "cell_type": "code",
   "execution_count": 0,
   "metadata": {
    "application/vnd.databricks.v1+cell": {
     "cellMetadata": {
      "byteLimit": 2048000,
      "rowLimit": 10000
     },
     "inputWidgets": {},
     "nuid": "16894aa3-83e0-402e-bf28-266a83ba0aae",
     "showTitle": false,
     "tableResultSettingsMap": {},
     "title": ""
    }
   },
   "outputs": [],
   "source": [
    "df_InternetService= df_InternetService.melt(id_vars= 'InternetService', value_vars= ['Yes','No'], var_name='Churn', value_name='total')"
   ]
  },
  {
   "cell_type": "code",
   "execution_count": 0,
   "metadata": {
    "application/vnd.databricks.v1+cell": {
     "cellMetadata": {
      "byteLimit": 2048000,
      "rowLimit": 10000
     },
     "inputWidgets": {},
     "nuid": "fdadf533-c353-4de8-8f4a-7ed6f4787b43",
     "showTitle": false,
     "tableResultSettingsMap": {},
     "title": ""
    }
   },
   "outputs": [],
   "source": [
    "fig_chrun_internet = grafico_churn_vs_x(df_InternetService,'InternetService')\n",
    "fig_chrun_internet.savefig(base_path+'/churn_by_internet.png', format = 'png')\n",
    "# plt.close()"
   ]
  },
  {
   "cell_type": "markdown",
   "metadata": {
    "application/vnd.databricks.v1+cell": {
     "cellMetadata": {},
     "inputWidgets": {},
     "nuid": "eb8b1214-1c94-447f-9843-bc56d4e825e2",
     "showTitle": false,
     "tableResultSettingsMap": {},
     "title": ""
    }
   },
   "source": [
    "### StreamingTV"
   ]
  },
  {
   "cell_type": "code",
   "execution_count": 0,
   "metadata": {
    "application/vnd.databricks.v1+cell": {
     "cellMetadata": {
      "byteLimit": 2048000,
      "implicitDf": true,
      "rowLimit": 10000
     },
     "inputWidgets": {},
     "nuid": "157a4356-2cbb-49da-b353-82187da9ade7",
     "showTitle": false,
     "tableResultSettingsMap": {},
     "title": ""
    }
   },
   "outputs": [],
   "source": [
    "%sql \n",
    "SELECT StreamingTV,\n",
    "    SUM ( CASE WHEN churn = 'Yes' THEN 1 ELSE 0 END) AS Yes,\n",
    "    SUM ( CASE WHEN churn =  'No' THEN 1 ELSE 0 END) AS No\n",
    "from telecom.silver.teleco_cleaned\n",
    "GROUP BY StreamingTV\n",
    "ORDER BY COUNT(Churn);"
   ]
  },
  {
   "cell_type": "code",
   "execution_count": 0,
   "metadata": {
    "application/vnd.databricks.v1+cell": {
     "cellMetadata": {
      "byteLimit": 2048000,
      "rowLimit": 10000
     },
     "inputWidgets": {},
     "nuid": "469aa889-d62e-4939-8dfd-28543277dcd5",
     "showTitle": false,
     "tableResultSettingsMap": {},
     "title": ""
    }
   },
   "outputs": [],
   "source": [
    "df_streamingtv = spark.sql(\"\"\"\n",
    "                         \n",
    "     SELECT StreamingTV,\n",
    "    SUM ( CASE WHEN churn = 'Yes' THEN 1 ELSE 0 END) AS Yes,\n",
    "    SUM ( CASE WHEN churn =  'No' THEN 1 ELSE 0 END) AS No\n",
    "from telecom.silver.teleco_cleaned\n",
    "GROUP BY StreamingTV\n",
    "ORDER BY COUNT(Churn);\n",
    "\n",
    "\"\"\").toPandas()"
   ]
  },
  {
   "cell_type": "code",
   "execution_count": 0,
   "metadata": {
    "application/vnd.databricks.v1+cell": {
     "cellMetadata": {
      "byteLimit": 2048000,
      "rowLimit": 10000
     },
     "inputWidgets": {},
     "nuid": "f036ef6e-44e0-4f1b-b7ae-45673e232ab6",
     "showTitle": false,
     "tableResultSettingsMap": {},
     "title": ""
    }
   },
   "outputs": [],
   "source": [
    "df_streamingtv = df_streamingtv.melt(id_vars= 'StreamingTV', value_vars= ['Yes','No'], var_name='Churn', value_name='total')\n",
    "\n",
    "fig_churn_streaming = grafico_churn_vs_x(df_streamingtv,'StreamingTV')\n",
    "fig_churn_streaming.savefig(base_path+'/churn_by_streamingtv.png', format = 'png')\n",
    "# plt.close()"
   ]
  },
  {
   "cell_type": "markdown",
   "metadata": {
    "application/vnd.databricks.v1+cell": {
     "cellMetadata": {},
     "inputWidgets": {},
     "nuid": "827846e9-8193-4118-beb7-c026bbf4847d",
     "showTitle": false,
     "tableResultSettingsMap": {},
     "title": ""
    }
   },
   "source": [
    "### StreamingMovies"
   ]
  },
  {
   "cell_type": "code",
   "execution_count": 0,
   "metadata": {
    "application/vnd.databricks.v1+cell": {
     "cellMetadata": {
      "byteLimit": 2048000,
      "rowLimit": 10000
     },
     "inputWidgets": {},
     "nuid": "feb8040d-d28b-4788-8ef7-8c46cc6bd274",
     "showTitle": false,
     "tableResultSettingsMap": {},
     "title": ""
    }
   },
   "outputs": [],
   "source": [
    "df_StreamingMovies= spark.sql(\"\"\"\n",
    "                         \n",
    "    SELECT StreamingMovies,\n",
    "    SUM ( CASE WHEN churn = 'Yes' THEN 1 ELSE 0 END) AS Yes,\n",
    "    SUM ( CASE WHEN churn =  'No' THEN 1 ELSE 0 END) AS No\n",
    "from telecom.silver.teleco_cleaned\n",
    "GROUP BY StreamingMovies\n",
    "ORDER BY COUNT(Churn);\n",
    "\n",
    "\"\"\").toPandas()"
   ]
  },
  {
   "cell_type": "code",
   "execution_count": 0,
   "metadata": {
    "application/vnd.databricks.v1+cell": {
     "cellMetadata": {
      "byteLimit": 2048000,
      "rowLimit": 10000
     },
     "inputWidgets": {},
     "nuid": "090a1729-27aa-4ec0-93a9-e39c9a4b170a",
     "showTitle": false,
     "tableResultSettingsMap": {},
     "title": ""
    }
   },
   "outputs": [],
   "source": [
    "df_StreamingMovies = df_StreamingMovies.melt(id_vars= 'StreamingMovies', value_vars= ['Yes','No'], var_name='Churn', value_name='total')\n",
    "fig_churn_streaming_movies = grafico_churn_vs_x(df_StreamingMovies,'StreamingMovies')\n",
    "fig_churn_streaming_movies.savefig(base_path+'/churn_by_streaming_movies.png', format = 'png')\n",
    "# plt.close()"
   ]
  },
  {
   "cell_type": "markdown",
   "metadata": {
    "application/vnd.databricks.v1+cell": {
     "cellMetadata": {},
     "inputWidgets": {},
     "nuid": "7de001dc-f836-4c22-9122-df4ca527ab7d",
     "showTitle": false,
     "tableResultSettingsMap": {},
     "title": ""
    }
   },
   "source": [
    "# Grupo 3 - Suporte e segurança\n",
    "\n",
    "\n",
    "OnlineSecurity | OnlineBackup | DeviceProtection | TechSupport |"
   ]
  },
  {
   "cell_type": "markdown",
   "metadata": {
    "application/vnd.databricks.v1+cell": {
     "cellMetadata": {},
     "inputWidgets": {},
     "nuid": "0995ba5b-f436-4eb3-918b-9ed5accfd1db",
     "showTitle": false,
     "tableResultSettingsMap": {},
     "title": ""
    }
   },
   "source": [
    "### OlineSecurity"
   ]
  },
  {
   "cell_type": "code",
   "execution_count": 0,
   "metadata": {
    "application/vnd.databricks.v1+cell": {
     "cellMetadata": {
      "byteLimit": 2048000,
      "rowLimit": 10000
     },
     "inputWidgets": {},
     "nuid": "54f7419f-448b-40a6-bf2e-319c361351a6",
     "showTitle": false,
     "tableResultSettingsMap": {},
     "title": ""
    }
   },
   "outputs": [],
   "source": [
    "df_security = spark.sql(\"\"\"\n",
    "                        \n",
    "SELECT OnlineSecurity,\n",
    "  SUM( CASE WHEN Churn = 'Yes' THEN 1 ELSE 0 END) AS Yes,\n",
    "  SUM( CASE WHEN Churn = 'No' THEN 1 ELSE 0 END ) AS No\n",
    "FROM telecom.silver.teleco_cleaned\n",
    "GROUP BY OnlineSecurity\n",
    "\n",
    "                        \"\"\").toPandas()\n",
    "                        \n",
    "df_security = df_security.melt(id_vars= 'OnlineSecurity', value_vars= ['Yes','No'], var_name='Churn', value_name='total')\n",
    "fig_churn_security = grafico_churn_vs_x(df_security,'OnlineSecurity')\n",
    "fig_churn_security.savefig(base_path+'/churn_by_security.png', format = 'png')\n",
    "# plt.close()\n",
    "\n",
    "\n"
   ]
  },
  {
   "cell_type": "markdown",
   "metadata": {
    "application/vnd.databricks.v1+cell": {
     "cellMetadata": {},
     "inputWidgets": {},
     "nuid": "be653390-3811-4c25-9165-cc256a682d5f",
     "showTitle": false,
     "tableResultSettingsMap": {},
     "title": ""
    }
   },
   "source": [
    "### OnlineBackup"
   ]
  },
  {
   "cell_type": "code",
   "execution_count": 0,
   "metadata": {
    "application/vnd.databricks.v1+cell": {
     "cellMetadata": {
      "byteLimit": 2048000,
      "implicitDf": true,
      "rowLimit": 10000
     },
     "inputWidgets": {},
     "nuid": "9aea2eb8-52e5-4f48-8744-dae29b8ff805",
     "showTitle": false,
     "tableResultSettingsMap": {},
     "title": ""
    }
   },
   "outputs": [],
   "source": [
    "df_churn_by_onlinebk = spark.sql(\"\"\"\n",
    "                                 \n",
    "SELECT OnlineBackup,\n",
    "    SUM ( CASE WHEN Churn = 'Yes' THEN 1 ELSE 0 END) AS Yes,\n",
    "    SUM ( CASE WHEN Churn = 'No' THEN 1 ELSE 0 END ) AS No\n",
    "from telecom.silver.teleco_cleaned\n",
    "GROUP BY OnlineBackup\n",
    "                                 \"\"\").toPandas()\n",
    "df_churn_by_onlinebk = df_churn_by_onlinebk.melt(id_vars= 'OnlineBackup', value_vars= ['Yes','No'], var_name='Churn', value_name='total')\n",
    "fig_churn_onlinebk = grafico_churn_vs_x(df_churn_by_onlinebk,'OnlineBackup')\n",
    "fig_churn_onlinebk.savefig(base_path+'/churn_by_onlinebk.png', format = 'png')\n",
    "# plt.close()\n"
   ]
  },
  {
   "cell_type": "markdown",
   "metadata": {
    "application/vnd.databricks.v1+cell": {
     "cellMetadata": {},
     "inputWidgets": {},
     "nuid": "38227fc9-44a7-42bb-809a-0ec5cbc03088",
     "showTitle": false,
     "tableResultSettingsMap": {},
     "title": ""
    }
   },
   "source": [
    "### DeviceProtection\n"
   ]
  },
  {
   "cell_type": "code",
   "execution_count": 0,
   "metadata": {
    "application/vnd.databricks.v1+cell": {
     "cellMetadata": {
      "byteLimit": 2048000,
      "rowLimit": 10000
     },
     "inputWidgets": {},
     "nuid": "872385c8-a794-4fad-a5bf-f5cd7cd5d32a",
     "showTitle": false,
     "tableResultSettingsMap": {},
     "title": ""
    }
   },
   "outputs": [],
   "source": [
    "df_deviceprotection = spark.sql(\"\"\"\n",
    "SELECT DeviceProtection,\n",
    "    SUM ( CASE WHEN Churn = 'Yes' THEN 1 ELSE 0 END) AS Yes,\n",
    "    SUM ( CASE WHEN Churn = 'No' THEN 1 ELSE 0 END ) AS No\n",
    "from telecom.silver.teleco_cleaned\n",
    "GROUP BY DeviceProtection\n",
    "\"\"\").toPandas()\n",
    "\n",
    "df_deviceprotection = df_deviceprotection.melt(id_vars= 'DeviceProtection', value_vars= ['Yes','No'], var_name='Churn', value_name='total')\n",
    "\n",
    "fig_churn_deviceprotection = grafico_churn_vs_x(df_deviceprotection,'DeviceProtection')\n",
    "fig_churn_deviceprotection.savefig(base_path+'/churn_by_deviceprotection.png', format = 'png')\n",
    "# plt.close()\n"
   ]
  },
  {
   "cell_type": "markdown",
   "metadata": {
    "application/vnd.databricks.v1+cell": {
     "cellMetadata": {},
     "inputWidgets": {},
     "nuid": "eb5b5691-3008-43b2-a8d7-85a7d7101730",
     "showTitle": false,
     "tableResultSettingsMap": {},
     "title": ""
    }
   },
   "source": [
    "### TechSupport\n"
   ]
  },
  {
   "cell_type": "code",
   "execution_count": 0,
   "metadata": {
    "application/vnd.databricks.v1+cell": {
     "cellMetadata": {
      "byteLimit": 2048000,
      "rowLimit": 10000
     },
     "inputWidgets": {},
     "nuid": "1b98844d-4159-40bf-b557-014dee0c916f",
     "showTitle": false,
     "tableResultSettingsMap": {},
     "title": ""
    }
   },
   "outputs": [],
   "source": [
    "df_techsupport = spark.sql(\"\"\"\n",
    "SELECT TechSupport,\n",
    "    SUM ( CASE WHEN Churn = 'Yes' THEN 1 ELSE 0 END) AS Yes,\n",
    "    SUM ( CASE WHEN Churn = 'No' THEN 1 ELSE 0 END ) AS No\n",
    "from telecom.silver.teleco_cleaned\n",
    "GROUP BY TechSupport\n",
    "\"\"\").toPandas()\n",
    "\n",
    "df_techsupport = df_techsupport.melt(id_vars= 'TechSupport', value_vars= ['Yes','No'], var_name='Churn', value_name='total')\n",
    "\n",
    "fig_churn_techsupport = grafico_churn_vs_x(df_techsupport,'TechSupport')\n",
    "fig_churn_techsupport.savefig(base_path+'/churn_by_techsupport.png', format = 'png')\n",
    "# plt.close()"
   ]
  },
  {
   "cell_type": "code",
   "execution_count": 0,
   "metadata": {
    "application/vnd.databricks.v1+cell": {
     "cellMetadata": {
      "byteLimit": 2048000,
      "rowLimit": 10000
     },
     "inputWidgets": {},
     "nuid": "007f0838-b0b5-474e-8dd0-6b5aff02c4dd",
     "showTitle": false,
     "tableResultSettingsMap": {},
     "title": ""
    }
   },
   "outputs": [],
   "source": [
    "plt.pie(df_contrato['churned'], labels=df_contrato['Contract'], autopct='%1.1f%%',colors=earth_palette,wedgeprops={'width': 0.1})\n",
    "# plt.legend('upper right')\n",
    "plt.title('Percent Churn by Contract')\n",
    "plt.savefig(base_path+'/percent_churn_by_contract.png', format = 'png')"
   ]
  },
  {
   "cell_type": "markdown",
   "metadata": {
    "application/vnd.databricks.v1+cell": {
     "cellMetadata": {},
     "inputWidgets": {},
     "nuid": "13f9ddc6-984c-46dc-a253-57f0444946fa",
     "showTitle": false,
     "tableResultSettingsMap": {},
     "title": ""
    }
   },
   "source": [
    "## Features Categoricas x Chrun Cases"
   ]
  },
  {
   "cell_type": "code",
   "execution_count": 0,
   "metadata": {
    "application/vnd.databricks.v1+cell": {
     "cellMetadata": {
      "byteLimit": 2048000,
      "implicitDf": true,
      "rowLimit": 10000
     },
     "inputWidgets": {},
     "nuid": "d7039aab-724c-409e-b332-97a209e154e8",
     "showTitle": false,
     "tableResultSettingsMap": {},
     "title": ""
    }
   },
   "outputs": [
    {
     "output_type": "display_data",
     "data": {
      "text/plain": [
       "Databricks visualization. Run in Databricks to view."
      ]
     },
     "metadata": {
      "application/vnd.databricks.v1.subcommand+json": {
       "baseErrorDetails": null,
       "bindings": {},
       "collapsed": false,
       "command": "%sql WITH q AS (SELECT PaymentMethod,\n SUM(CASE WHEN churn = 'Yes' THEN 1 ELSE 0 END) AS Churned\nFROM telecom.silver.teleco_cleaned\nGROUP BY PaymentMethod\nORDER BY Churned DESC) SELECT `PaymentMethod`,SUM(`Churned`) `column_9660ffb9226` FROM q GROUP BY `PaymentMethod`",
       "commandTitle": "Visualization 1",
       "commandType": "auto",
       "commandVersion": 0,
       "commentThread": [],
       "commentsVisible": false,
       "contentSha256Hex": null,
       "customPlotOptions": {
        "redashChart": [
         {
          "key": "type",
          "value": "CHART"
         },
         {
          "key": "options",
          "value": {
           "alignYAxesAtZero": true,
           "coefficient": 1,
           "columnConfigurationMap": {
            "x": {
             "column": "PaymentMethod",
             "id": "column_9660ffb9225"
            },
            "y": [
             {
              "column": "Churned",
              "id": "column_9660ffb9226",
              "transform": "SUM"
             }
            ]
           },
           "dateTimeFormat": "DD/MM/YYYY HH:mm",
           "direction": {
            "type": "counterclockwise"
           },
           "error_y": {
            "type": "data",
            "visible": true
           },
           "globalSeriesType": "pie",
           "legend": {
            "traceorder": "normal"
           },
           "missingValuesAsZero": true,
           "numberFormat": "0,0.[00000]",
           "percentFormat": "0[.]00%",
           "series": {
            "error_y": {
             "type": "data",
             "visible": true
            },
            "stacking": null
           },
           "seriesOptions": {
            "column_9660ffb9226": {
             "name": "Churned",
             "type": "pie",
             "yAxis": 0
            }
           },
           "showDataLabels": true,
           "sizemode": "diameter",
           "sortX": true,
           "sortY": true,
           "swappedAxes": false,
           "textFormat": "",
           "useAggregationsUi": true,
           "valuesOptions": {},
           "version": 2,
           "xAxis": {
            "labels": {
             "enabled": true
            },
            "type": "-"
           },
           "yAxis": [
            {
             "type": "-"
            },
            {
             "opposite": true,
             "type": "-"
            }
           ]
          }
         }
        ]
       },
       "datasetPreviewNameToCmdIdMap": {},
       "diffDeletes": [],
       "diffInserts": [],
       "displayType": "redashChart",
       "error": null,
       "errorDetails": null,
       "errorSummary": null,
       "errorTraceType": null,
       "finishTime": 0,
       "globalVars": {},
       "guid": "",
       "height": "auto",
       "hideCommandCode": false,
       "hideCommandResult": false,
       "iPythonMetadata": null,
       "inputWidgets": {},
       "isLockedInExamMode": false,
       "latestUser": "a user",
       "latestUserId": null,
       "listResultMetadata": null,
       "metadata": {},
       "nuid": "874e14fd-52f0-48fd-9d52-533493de888d",
       "origId": 0,
       "parentHierarchy": [],
       "pivotAggregation": null,
       "pivotColumns": null,
       "position": 24.9375,
       "resultDbfsErrorMessage": null,
       "resultDbfsStatus": "INLINED_IN_TREE",
       "results": null,
       "showCommandTitle": false,
       "startTime": 0,
       "state": "input",
       "streamStates": {},
       "subcommandOptions": {
        "queryPlan": {
         "groups": [
          {
           "column": "PaymentMethod",
           "type": "column"
          }
         ],
         "selects": [
          {
           "column": "PaymentMethod",
           "type": "column"
          },
          {
           "alias": "column_9660ffb9226",
           "args": [
            {
             "column": "Churned",
             "type": "column"
            }
           ],
           "function": "SUM",
           "type": "function"
          }
         ]
        }
       },
       "submitTime": 0,
       "subtype": "tableResultSubCmd.visualization",
       "tableResultIndex": 0,
       "tableResultSettingsMap": {},
       "useConsistentColors": false,
       "version": "CommandV1",
       "width": "auto",
       "workflows": null,
       "xColumns": null,
       "yColumns": null
      }
     },
     "output_type": "display_data"
    }
   ],
   "source": [
    "%sql\n",
    "\n",
    "SELECT PaymentMethod,\n",
    " SUM(CASE WHEN churn = 'Yes' THEN 1 ELSE 0 END) AS Churned\n",
    "FROM telecom.silver.teleco_cleaned\n",
    "GROUP BY PaymentMethod\n",
    "ORDER BY Churned DESC"
   ]
  },
  {
   "cell_type": "code",
   "execution_count": 0,
   "metadata": {
    "application/vnd.databricks.v1+cell": {
     "cellMetadata": {
      "byteLimit": 2048000,
      "rowLimit": 10000
     },
     "inputWidgets": {},
     "nuid": "adf0771a-69b7-4c2e-be41-5abd752ee16e",
     "showTitle": false,
     "tableResultSettingsMap": {},
     "title": ""
    }
   },
   "outputs": [],
   "source": [
    "pd_paymethods = spark.sql(\"\"\"\n",
    "                          \n",
    "SELECT PaymentMethod,\n",
    " SUM(CASE WHEN churn = 'Yes' THEN 1 ELSE 0 END) AS Churned\n",
    "FROM telecom.silver.teleco_cleaned\n",
    "GROUP BY PaymentMethod\n",
    "ORDER BY Churned DESC\n",
    "\n",
    "    \"\"\").toPandas()"
   ]
  },
  {
   "cell_type": "code",
   "execution_count": 0,
   "metadata": {
    "application/vnd.databricks.v1+cell": {
     "cellMetadata": {
      "byteLimit": 2048000,
      "rowLimit": 10000
     },
     "inputWidgets": {},
     "nuid": "d4948dbf-583a-4643-af16-695ef084b4ef",
     "showTitle": false,
     "tableResultSettingsMap": {},
     "title": ""
    }
   },
   "outputs": [],
   "source": [
    "plt.pie(pd_paymethods['Churned'], labels=pd_paymethods['PaymentMethod'], autopct='%1.1f%%',colors=earth_palette, wedgeprops={'width': 0.1})\n",
    "plt.title('Percent Churn by Payment Method')\n",
    "plt.savefig(base_path+'/percent_churn_by_paymentmethod.png', format = 'png')"
   ]
  },
  {
   "cell_type": "markdown",
   "metadata": {
    "application/vnd.databricks.v1+cell": {
     "cellMetadata": {},
     "inputWidgets": {},
     "nuid": "a332b3b1-abc5-41a8-8b6d-e69558a392bf",
     "showTitle": false,
     "tableResultSettingsMap": {},
     "title": ""
    }
   },
   "source": [
    "# Features Numericas"
   ]
  },
  {
   "cell_type": "markdown",
   "metadata": {
    "application/vnd.databricks.v1+cell": {
     "cellMetadata": {},
     "inputWidgets": {},
     "nuid": "697b9633-e12f-4d0d-b3f2-e6ce646372f1",
     "showTitle": false,
     "tableResultSettingsMap": {},
     "title": ""
    }
   },
   "source": [
    "### Distribuição das features numericas"
   ]
  },
  {
   "cell_type": "code",
   "execution_count": 0,
   "metadata": {
    "application/vnd.databricks.v1+cell": {
     "cellMetadata": {
      "byteLimit": 2048000,
      "implicitDf": true,
      "rowLimit": 10000
     },
     "inputWidgets": {},
     "nuid": "7b9b8338-2190-4c5d-9cd0-663599a8e3dc",
     "showTitle": false,
     "tableResultSettingsMap": {},
     "title": ""
    }
   },
   "outputs": [],
   "source": [
    "pd_tenure = spark.sql(\"\"\"\n",
    "\n",
    "    SELECT tenure,\n",
    "    SUM (CASE WHEN churn = 'Yes' THEN 1 ELSE 0 END) AS Churned\n",
    "    from telecom.silver.teleco_cleaned\n",
    "    GROUP BY tenure\n",
    "    ORDER BY Churned\n",
    "\n",
    "\"\"\").toPandas()\n",
    "pd_tenure"
   ]
  },
  {
   "cell_type": "markdown",
   "metadata": {
    "application/vnd.databricks.v1+cell": {
     "cellMetadata": {},
     "inputWidgets": {},
     "nuid": "d898221e-4f0c-4766-83e4-4edd4c5e4ee4",
     "showTitle": false,
     "tableResultSettingsMap": {},
     "title": ""
    }
   },
   "source": [
    "## Analise de Fidelização (Tenure)"
   ]
  },
  {
   "cell_type": "code",
   "execution_count": 0,
   "metadata": {
    "application/vnd.databricks.v1+cell": {
     "cellMetadata": {
      "byteLimit": 2048000,
      "implicitDf": true,
      "rowLimit": 10000
     },
     "inputWidgets": {},
     "nuid": "50f3c068-ac30-47e6-ab7f-5366099f4582",
     "showTitle": false,
     "tableResultSettingsMap": {},
     "title": ""
    }
   },
   "outputs": [
    {
     "output_type": "display_data",
     "data": {
      "text/plain": [
       "Databricks visualization. Run in Databricks to view."
      ]
     },
     "metadata": {
      "application/vnd.databricks.v1.subcommand+json": {
       "baseErrorDetails": null,
       "bindings": {},
       "collapsed": false,
       "command": "%sql WITH q AS (SELECT tenure\nFROM telecom.silver.teleco_cleaned) ,min_max AS (SELECT `tenure`,(SELECT MAX(`tenure`) FROM q) `target_column_max`,(SELECT MIN(`tenure`) FROM q) `target_column_min` FROM q) ,histogram_meta AS (SELECT `tenure`,`target_column_min` `min_value`,IF(`target_column_max` = `target_column_min`,`target_column_max` + 1,`target_column_max`) `max_value`,(`target_column_max` - `target_column_min`) / 10 `step` FROM min_max) SELECT IF(ISNULL(`tenure`),NULL,LEAST(WIDTH_BUCKET(`tenure`,`min_value`,`max_value`,10),10)) `tenure_BIN`,FIRST(`min_value` + ((IF(ISNULL(`tenure`),NULL,LEAST(WIDTH_BUCKET(`tenure`,`min_value`,`max_value`,10),10)) - 1) * `step`)) `tenure_BIN_LOWER_BOUND`,FIRST(`step`) `tenure_BIN_STEP`,COUNT(`tenure`) `COUNT` FROM histogram_meta GROUP BY `tenure_BIN`",
       "commandTitle": "Visualization 1",
       "commandType": "auto",
       "commandVersion": 0,
       "commentThread": [],
       "commentsVisible": false,
       "contentSha256Hex": null,
       "customPlotOptions": {
        "redashChart": [
         {
          "key": "type",
          "value": "CHART"
         },
         {
          "key": "options",
          "value": {
           "alignYAxesAtZero": true,
           "coefficient": 1,
           "columnConfigurationMap": {
            "x": {
             "column": "tenure",
             "id": "column_a80b3cfe230"
            }
           },
           "dateTimeFormat": "DD/MM/YYYY HH:mm",
           "direction": {
            "type": "counterclockwise"
           },
           "error_y": {
            "type": "data",
            "visible": true
           },
           "globalSeriesType": "histogram",
           "isAggregationOn": true,
           "legend": {
            "traceorder": "normal"
           },
           "missingValuesAsZero": true,
           "numBins": 10,
           "numberFormat": "0,0.[00000]",
           "percentFormat": "0[.]00%",
           "series": {
            "error_y": {
             "type": "data",
             "visible": true
            },
            "stacking": null
           },
           "seriesOptions": {},
           "showDataLabels": false,
           "sizemode": "diameter",
           "sortX": true,
           "sortY": true,
           "swappedAxes": false,
           "textFormat": "",
           "useAggregationsUi": true,
           "valuesOptions": {},
           "version": 2,
           "xAxis": {
            "labels": {
             "enabled": true
            },
            "type": "-"
           },
           "yAxis": [
            {
             "type": "-"
            },
            {
             "opposite": true,
             "type": "-"
            }
           ]
          }
         }
        ]
       },
       "datasetPreviewNameToCmdIdMap": {},
       "diffDeletes": [],
       "diffInserts": [],
       "displayType": "redashChart",
       "error": null,
       "errorDetails": null,
       "errorSummary": null,
       "errorTraceType": null,
       "finishTime": 0,
       "globalVars": {},
       "guid": "",
       "height": "auto",
       "hideCommandCode": false,
       "hideCommandResult": false,
       "iPythonMetadata": null,
       "inputWidgets": {},
       "isLockedInExamMode": false,
       "latestUser": "a user",
       "latestUserId": null,
       "listResultMetadata": null,
       "metadata": {},
       "nuid": "bdad741a-483c-474f-a28c-ee55f035887c",
       "origId": 0,
       "parentHierarchy": [],
       "pivotAggregation": null,
       "pivotColumns": null,
       "position": 27.75,
       "resultDbfsErrorMessage": null,
       "resultDbfsStatus": "INLINED_IN_TREE",
       "results": null,
       "showCommandTitle": false,
       "startTime": 0,
       "state": "input",
       "streamStates": {},
       "subcommandOptions": {
        "queryPlan": {
         "groups": [
          {
           "column": "tenure_BIN",
           "type": "column"
          }
         ],
         "selects": [
          {
           "alias": "tenure_BIN",
           "args": [
            {
             "column": "tenure",
             "type": "column"
            },
            {
             "number": 10,
             "type": "number"
            }
           ],
           "function": "BIN",
           "type": "function"
          },
          {
           "alias": "tenure_BIN_LOWER_BOUND",
           "args": [
            {
             "column": "tenure",
             "type": "column"
            },
            {
             "number": 10,
             "type": "number"
            }
           ],
           "function": "BIN_LOWER_BOUND",
           "type": "function"
          },
          {
           "alias": "tenure_BIN_STEP",
           "args": [
            {
             "column": "tenure",
             "type": "column"
            },
            {
             "number": 10,
             "type": "number"
            }
           ],
           "function": "BIN_STEP",
           "type": "function"
          },
          {
           "alias": "COUNT",
           "args": [
            {
             "column": "tenure",
             "type": "column"
            }
           ],
           "function": "COUNT",
           "type": "function"
          }
         ]
        }
       },
       "submitTime": 0,
       "subtype": "tableResultSubCmd.visualization",
       "tableResultIndex": 0,
       "tableResultSettingsMap": {},
       "useConsistentColors": false,
       "version": "CommandV1",
       "width": "auto",
       "workflows": null,
       "xColumns": null,
       "yColumns": null
      }
     },
     "output_type": "display_data"
    }
   ],
   "source": [
    "df_tenure  = spark.sql(\"\"\"\n",
    "SELECT tenure,\n",
    "    COUNT(CASE WHEN Churn = 'Yes' THEN 1 END) Churn,\n",
    "    COUNT(*) AS NotChurned\n",
    "FROM telecom.silver.teleco_cleaned\n",
    "GROUP BY tenure\n",
    "\n",
    "\"\"\").toPandas()"
   ]
  },
  {
   "cell_type": "code",
   "execution_count": 0,
   "metadata": {
    "application/vnd.databricks.v1+cell": {
     "cellMetadata": {
      "byteLimit": 2048000,
      "implicitDf": true,
      "rowLimit": 10000
     },
     "inputWidgets": {},
     "nuid": "471fa2ce-6e2d-499b-b6e3-1d8940b28d9d",
     "showTitle": false,
     "tableResultSettingsMap": {},
     "title": ""
    }
   },
   "outputs": [],
   "source": [
    "%sql\n",
    "SELECT \n",
    "    MonthlyCharges,\n",
    "    SUM(CASE WHEN Churn = 'Yes' THEN 1 ELSE 0 END) AS Churn\n",
    "FROM telecom.silver.teleco_cleaned\n",
    "GROUP BY MonthlyCharges\n",
    "ORDER BY Churn DESC;"
   ]
  },
  {
   "cell_type": "code",
   "execution_count": 0,
   "metadata": {
    "application/vnd.databricks.v1+cell": {
     "cellMetadata": {
      "byteLimit": 2048000,
      "rowLimit": 10000
     },
     "inputWidgets": {},
     "nuid": "13dbd959-aedd-43da-b78e-bd550e9ae5c4",
     "showTitle": false,
     "tableResultSettingsMap": {},
     "title": ""
    }
   },
   "outputs": [],
   "source": [
    "plt.figure(figsize=(8,5))\n",
    "sns.histplot(df_tenure['tenure'],kde=True,bins = 50,color='#E6C229')\n",
    "plt.ylabel('Density')\n",
    "plt.xlabel('Tenure')\n",
    "plt.xticks(np.arange(0,df_tenure['tenure'].max()+1,3))\n",
    "plt.title('Tenure Distribution')\n",
    "plt.savefig(base_path+'/tenure_distribution.png')"
   ]
  },
  {
   "cell_type": "code",
   "execution_count": 0,
   "metadata": {
    "application/vnd.databricks.v1+cell": {
     "cellMetadata": {
      "byteLimit": 2048000,
      "implicitDf": true,
      "rowLimit": 10000
     },
     "inputWidgets": {},
     "nuid": "51cae6d0-8edf-4111-926c-49a957677fbc",
     "showTitle": false,
     "tableResultSettingsMap": {},
     "title": ""
    }
   },
   "outputs": [],
   "source": [
    "%sql\n",
    "SELECT tenure,\n",
    "SUM (CASE WHEN Churn = 'Yes' THEN 1 ELSE 0 END) AS Yes,\n",
    "SUM (CASE WHEN Churn = 'No' THEN 1 ELSE 0 END ) AS No\n",
    "FROM telecom.silver.teleco_cleaned\n",
    "GROUP BY tenure\n",
    "ORDER BY tenure ASC;"
   ]
  },
  {
   "cell_type": "code",
   "execution_count": 0,
   "metadata": {
    "application/vnd.databricks.v1+cell": {
     "cellMetadata": {
      "byteLimit": 2048000,
      "rowLimit": 10000
     },
     "inputWidgets": {},
     "nuid": "6ec58d67-bccb-4f4a-8214-b78ef2f07dff",
     "showTitle": false,
     "tableResultSettingsMap": {},
     "title": ""
    }
   },
   "outputs": [],
   "source": [
    "df_churn_tenure = spark.sql(\"\"\"\n",
    "\n",
    "SELECT tenure,\n",
    "SUM (CASE WHEN Churn = 'Yes' THEN 1 ELSE 0 END) AS Yes,\n",
    "SUM (CASE WHEN Churn = 'No' THEN 1 ELSE 0 END ) AS No\n",
    "FROM telecom.silver.teleco_cleaned\n",
    "GROUP BY tenure\n",
    "ORDER BY tenure ASC;\n",
    "                          \n",
    "                            \"\"\").toPandas()"
   ]
  },
  {
   "cell_type": "markdown",
   "metadata": {
    "application/vnd.databricks.v1+cell": {
     "cellMetadata": {},
     "inputWidgets": {},
     "nuid": "a0704598-ce05-44a0-be4c-7eb41814fd6f",
     "showTitle": false,
     "tableResultSettingsMap": {},
     "title": ""
    }
   },
   "source": [
    "Propoção de Churn = "
   ]
  },
  {
   "cell_type": "code",
   "execution_count": 0,
   "metadata": {
    "application/vnd.databricks.v1+cell": {
     "cellMetadata": {
      "byteLimit": 2048000,
      "rowLimit": 10000
     },
     "inputWidgets": {},
     "nuid": "700fb051-d3e1-4aaa-8e6d-ffcb18482857",
     "showTitle": false,
     "tableResultSettingsMap": {},
     "title": ""
    }
   },
   "outputs": [],
   "source": [
    "df_churn_tenure['tenure_bin'] = pd.cut(df_churn_tenure['tenure'],bins=[0,6,12,24,36,48,60,72])\n",
    "# Agrupar os dados por bins e somar as quantidades\n",
    "df_grouped = df_churn_tenure.groupby('tenure_bin')[['Yes', 'No']].sum().reset_index()\n",
    "# Calcular a proporção de churn\n",
    "df_grouped['ChurnRate'] = df_grouped['Yes'] / (df_grouped['Yes'] + df_grouped['No'])"
   ]
  },
  {
   "cell_type": "code",
   "execution_count": 0,
   "metadata": {
    "application/vnd.databricks.v1+cell": {
     "cellMetadata": {
      "byteLimit": 2048000,
      "rowLimit": 10000
     },
     "inputWidgets": {},
     "nuid": "535d4ab1-6486-40f6-9da9-da960d8cedd6",
     "showTitle": false,
     "tableResultSettingsMap": {},
     "title": ""
    }
   },
   "outputs": [],
   "source": [
    "df_grouped"
   ]
  },
  {
   "cell_type": "code",
   "execution_count": 0,
   "metadata": {
    "application/vnd.databricks.v1+cell": {
     "cellMetadata": {
      "byteLimit": 2048000,
      "rowLimit": 10000
     },
     "inputWidgets": {},
     "nuid": "0ee817e1-154d-4d17-bbfb-ac65e45d08fe",
     "showTitle": false,
     "tableResultSettingsMap": {},
     "title": ""
    }
   },
   "outputs": [],
   "source": [
    "# Plotar o gráfico de barras\n",
    "plt.figure(figsize=(8,6))\n",
    "ax = sns.barplot(data=df_grouped, x='tenure_bin', y='ChurnRate', color='#2F4F4F')\n",
    "\n",
    "# Adicionar os valores acima das barras\n",
    "for p in ax.patches:\n",
    "    height = p.get_height()\n",
    "    ax.annotate(f'{height:.2%}', xy=(p.get_x() + p.get_width() / 2, height),\n",
    "                xytext=(0, 3), textcoords='offset points',\n",
    "                ha='center', va='bottom', fontsize=10, color='black')\n",
    "\n",
    "plt.title('Proporção de Churn por Tempo de Contrato (Tenure)')\n",
    "plt.ylabel('Proporção de Churn')\n",
    "plt.xlabel('Tempo de Contrato (meses)')\n",
    "plt.ylim(0, 1)  # Porque a proporção varia entre 0 e 1\n",
    "plt.show()"
   ]
  },
  {
   "cell_type": "code",
   "execution_count": 0,
   "metadata": {
    "application/vnd.databricks.v1+cell": {
     "cellMetadata": {
      "byteLimit": 2048000,
      "implicitDf": true,
      "rowLimit": 10000
     },
     "inputWidgets": {},
     "nuid": "aa7dbb55-cc32-4ca7-974c-e7e0b79b9632",
     "showTitle": false,
     "tableResultSettingsMap": {},
     "title": ""
    }
   },
   "outputs": [],
   "source": [
    "%sql\n",
    "SELECT \n",
    "      COUNT(CASE WHEN Churn = 'Yes' THEN 1  END) AS Churned,\n",
    "      COUNT(CASE WHEN Churn = 'No' THEN 1  END) AS NotChurned,\n",
    "      ROUND((COUNT(CASE WHEN Churn = 'Yes' THEN 1  END) * 1.0) / COUNT(*),3) AS ChurnRate,\n",
    "      CASE\n",
    "            WHEN tenure >= 0 AND tenure < 6 THEN '(0-6]'\n",
    "            WHEN tenure >= 6 AND tenure < 12 THEN '(6-12]'\n",
    "            WHEN tenure >= 12 AND tenure < 18 THEN '(12-18]'\n",
    "            WHEN tenure >= 18 AND tenure < 24 THEN '(18-24]'\n",
    "            WHEN tenure >= 24 AND tenure < 36 THEN '(24-36]'\n",
    "            WHEN tenure >= 36 AND tenure < 48 THEN '(36-48]'\n",
    "            WHEN tenure >= 48 AND tenure < 60 THEN '(48-60]'\n",
    "            WHEN tenure >= 60 AND tenure <= 72 THEN '(60-72)'\n",
    "      END AS tenure_bin\n",
    "FROM telecom.silver.teleco_cleaned\n",
    "GROUP BY tenure_bin\n",
    "ORDER BY ChurnRate DESC;"
   ]
  },
  {
   "cell_type": "code",
   "execution_count": 0,
   "metadata": {
    "application/vnd.databricks.v1+cell": {
     "cellMetadata": {
      "byteLimit": 2048000,
      "rowLimit": 10000
     },
     "inputWidgets": {},
     "nuid": "12fd842a-9c22-41f2-9a9d-2d2e51aa071b",
     "showTitle": false,
     "tableResultSettingsMap": {},
     "title": ""
    }
   },
   "outputs": [],
   "source": [
    "df_churnrate_tenure = spark.sql(\"\"\"\n",
    "\n",
    "SELECT \n",
    "      COUNT(CASE WHEN Churn = 'Yes' THEN 1  END) AS Churned,\n",
    "      COUNT(CASE WHEN Churn = 'No' THEN 1  END) AS NotChurned,\n",
    "      ROUND((COUNT(CASE WHEN Churn = 'Yes' THEN 1  END) * 1.0) / COUNT(*),3) AS ChurnRate,\n",
    "      CASE\n",
    "            WHEN tenure >= 0 AND tenure < 6 THEN '(0-6]'\n",
    "            WHEN tenure >= 6 AND tenure < 12 THEN '(6-12]'\n",
    "            WHEN tenure >= 12 AND tenure < 18 THEN '(12-18]'\n",
    "            WHEN tenure >= 18 AND tenure < 24 THEN '(18-24]'\n",
    "            WHEN tenure >= 24 AND tenure < 36 THEN '(24-36]'\n",
    "            WHEN tenure >= 36 AND tenure < 48 THEN '(36-48]'\n",
    "            WHEN tenure >= 48 AND tenure < 60 THEN '(48-60]'\n",
    "            WHEN tenure >= 60 AND tenure <= 72 THEN '(60-72)'\n",
    "      END AS tenure_bin\n",
    "FROM telecom.silver.teleco_cleaned\n",
    "GROUP BY tenure_bin\n",
    "ORDER BY ChurnRate DESC;\n",
    "\n",
    "\"\"\").toPandas()"
   ]
  },
  {
   "cell_type": "code",
   "execution_count": 0,
   "metadata": {
    "application/vnd.databricks.v1+cell": {
     "cellMetadata": {
      "byteLimit": 2048000,
      "rowLimit": 10000
     },
     "inputWidgets": {},
     "nuid": "dd9ffe62-295a-4003-bdad-ba13bbedd61b",
     "showTitle": false,
     "tableResultSettingsMap": {},
     "title": ""
    }
   },
   "outputs": [],
   "source": [
    "df_churnrate_tenure"
   ]
  },
  {
   "cell_type": "code",
   "execution_count": 0,
   "metadata": {
    "application/vnd.databricks.v1+cell": {
     "cellMetadata": {
      "byteLimit": 2048000,
      "rowLimit": 10000
     },
     "inputWidgets": {},
     "nuid": "2895a161-3625-4911-873f-7d80f3089370",
     "showTitle": false,
     "tableResultSettingsMap": {},
     "title": ""
    }
   },
   "outputs": [],
   "source": [
    "# Plotar o gráfico de barras\n",
    "plt.figure(figsize=(8,6))\n",
    "ax = sns.barplot(data=df_churnrate_tenure, x='tenure_bin', y='ChurnRate', color='#2F4F4F')\n",
    "\n",
    "# Adicionar os valores acima das barras\n",
    "for p in ax.patches:\n",
    "    height = p.get_height()\n",
    "    ax.annotate(f'{height:.2%}', xy=(p.get_x() + p.get_width() / 2, height),\n",
    "                xytext=(0, 3), textcoords='offset points',\n",
    "                ha='center', va='bottom', fontsize=10, color='black')\n",
    "\n",
    "plt.title('Churn Ratio by Tenure')\n",
    "plt.ylabel('Churn Ratio')\n",
    "plt.xlabel('Tenure')\n",
    "plt.ylim(0, 1)  # Porque a proporção varia entre 0 e 1\n",
    "plt.savefig(base_path+'/prop_churn_tenure.png', format = 'png')\n",
    "plt.show()\n"
   ]
  },
  {
   "cell_type": "markdown",
   "metadata": {
    "application/vnd.databricks.v1+cell": {
     "cellMetadata": {},
     "inputWidgets": {},
     "nuid": "68a63dbb-b9a9-491c-a847-8d18af1fc274",
     "showTitle": false,
     "tableResultSettingsMap": {},
     "title": ""
    }
   },
   "source": [
    "## Payment Anali\n"
   ]
  },
  {
   "cell_type": "code",
   "execution_count": 0,
   "metadata": {
    "application/vnd.databricks.v1+cell": {
     "cellMetadata": {
      "byteLimit": 2048000,
      "implicitDf": true,
      "rowLimit": 10000
     },
     "inputWidgets": {},
     "nuid": "dedbafa0-f824-425a-99b9-91d6ef1de964",
     "showTitle": false,
     "tableResultSettingsMap": {},
     "title": ""
    }
   },
   "outputs": [],
   "source": [
    "%sql\n",
    "SELECT MonthlyCharges,\n",
    "--  any_value(Churn) as Churn\n",
    "COUNT(CASE WHEN Churn = 'Yes' THEN 1 ELSE 0 END) AS Churn\n",
    "FROM telecom.silver.teleco_cleaned\n",
    "GROUP BY MonthlyCharges\n",
    "ORDER BY MonthlyCharges DESC\n"
   ]
  },
  {
   "cell_type": "code",
   "execution_count": 0,
   "metadata": {
    "application/vnd.databricks.v1+cell": {
     "cellMetadata": {
      "byteLimit": 2048000,
      "rowLimit": 10000
     },
     "inputWidgets": {},
     "nuid": "4f96affb-7a85-45fa-b814-57d5d4d688d6",
     "showTitle": false,
     "tableResultSettingsMap": {},
     "title": ""
    }
   },
   "outputs": [],
   "source": [
    "df_totalcharge = spark.sql(\n",
    "    \"\"\"\n",
    "SELECT TotalCharges,\n",
    "--  any_value(Churn) as Churn\n",
    "COUNT(CASE WHEN Churn = 'Yes' THEN 1 ELSE 0 END) AS Churn\n",
    "FROM telecom.silver.teleco_cleaned\n",
    "GROUP BY TotalCharges\n",
    "ORDER BY TotalCharges DESC\n",
    "    \"\"\"\n",
    ").toPandas()"
   ]
  },
  {
   "cell_type": "code",
   "execution_count": 0,
   "metadata": {
    "application/vnd.databricks.v1+cell": {
     "cellMetadata": {
      "byteLimit": 2048000,
      "rowLimit": 10000
     },
     "inputWidgets": {},
     "nuid": "b769a20f-2110-44b7-b3e8-a56c0f8e60eb",
     "showTitle": false,
     "tableResultSettingsMap": {},
     "title": ""
    }
   },
   "outputs": [],
   "source": [
    "fig, ax = plt.subplots(figsize=(8,5))\n",
    "sns.histplot(df_totalcharge['TotalCharges'],bins = 30,color='#2F4F4F',kde=True)\n",
    "plt.xticks(np.arange(0, max(df_totalcharge['TotalCharges'].values+1), df_totalcharge['TotalCharges'].values.max()/10))\n",
    "plt.ylabel('Density')\n",
    "plt.xlabel('TotalCharges')\n",
    "plt.savefig(base_path+'/dist_totalcharges.png', format = 'png')"
   ]
  },
  {
   "cell_type": "code",
   "execution_count": 0,
   "metadata": {
    "application/vnd.databricks.v1+cell": {
     "cellMetadata": {
      "byteLimit": 2048000,
      "implicitDf": true,
      "rowLimit": 10000
     },
     "inputWidgets": {},
     "nuid": "e9c8ed6c-4f2e-47cf-ab64-644e1a2d010e",
     "showTitle": false,
     "tableResultSettingsMap": {},
     "title": ""
    }
   },
   "outputs": [],
   "source": [
    "df_totalcharge = spark.sql(\"\"\"\n",
    "    \n",
    "SELECT\n",
    "    CASE\n",
    "        WHEN TotalCharges >= 0 AND TotalCharges < 1000 THEN '0-1000'\n",
    "        WHEN TotalCharges >= 1000 AND TotalCharges < 2000 THEN '1000-2000'\n",
    "        WHEN TotalCharges >= 2000 AND TotalCharges < 3000 THEN '2000-3000'\n",
    "        WHEN TotalCharges >= 3000 AND TotalCharges < 4000 THEN '3000-4000'\n",
    "        WHEN TotalCharges >= 4000 THEN '4000+'\n",
    "        ELSE 'Unknown'\n",
    "    END AS TotalCharges_bin,\n",
    "    COUNT(CASE WHEN Churn = 'Yes' THEN 1 END) AS Churn,\n",
    "    COUNT(CASE WHEN Churn = 'No' THEN 1 END) AS NoChurn\n",
    "FROM telecom.silver.teleco_cleaned\n",
    "WHERE TotalCharges IS NOT NULL\n",
    "GROUP BY TotalCharges_bin\n",
    "ORDER BY TotalCharges_bin ASC;\n",
    "\n",
    "\n",
    "                           \"\"\").toPandas()"
   ]
  },
  {
   "cell_type": "code",
   "execution_count": 0,
   "metadata": {
    "application/vnd.databricks.v1+cell": {
     "cellMetadata": {
      "byteLimit": 2048000,
      "rowLimit": 10000
     },
     "inputWidgets": {},
     "nuid": "d2f0362c-3fea-41a2-adfa-143fd8e1352f",
     "showTitle": false,
     "tableResultSettingsMap": {},
     "title": ""
    }
   },
   "outputs": [],
   "source": [
    "# Supondo que o seu df está assim:\n",
    "# TotalCharges_bin | Churn | NoChurn\n",
    "\n",
    "df_melted = df_totalcharge.melt(id_vars='TotalCharges_bin', \n",
    "                                value_vars=['Churn', 'NoChurn'], \n",
    "                                var_name='ChurnStatus', \n",
    "                                value_name='Count')\n"
   ]
  },
  {
   "cell_type": "code",
   "execution_count": 0,
   "metadata": {
    "application/vnd.databricks.v1+cell": {
     "cellMetadata": {
      "byteLimit": 2048000,
      "rowLimit": 10000
     },
     "inputWidgets": {},
     "nuid": "abca0d77-3388-4423-8207-240e4a9cfb4f",
     "showTitle": false,
     "tableResultSettingsMap": {},
     "title": ""
    }
   },
   "outputs": [],
   "source": [
    "\n",
    "\n",
    "plt.figure(figsize=(10,6))\n",
    "ax = sns.barplot(data=df_melted, x='TotalCharges_bin', y='Count', hue='ChurnStatus', palette=['#5D8AA8','#353839'])\n",
    "\n",
    "# Adicionar os valores nas barras\n",
    "for p in ax.patches:\n",
    "    height = p.get_height()\n",
    "    ax.annotate(f'{int(height)}',\n",
    "                (p.get_x() + p.get_width() / 2, height),\n",
    "                ha='center', va='bottom', fontsize=10, color='black')\n",
    "\n",
    "plt.title('Distribuição de Churn por Faixa de TotalCharges')\n",
    "plt.xlabel('Faixa de TotalCharges')\n",
    "plt.ylabel('Número de Clientes')\n",
    "plt.legend(title='Status')\n",
    "plt.savefig(base_path + '/prop_churn_totalcharges.png', format='png')\n",
    "plt.show()\n",
    "\n"
   ]
  },
  {
   "cell_type": "code",
   "execution_count": 0,
   "metadata": {
    "application/vnd.databricks.v1+cell": {
     "cellMetadata": {},
     "inputWidgets": {},
     "nuid": "9feac7fe-d525-47b9-851c-271dd37ab519",
     "showTitle": false,
     "tableResultSettingsMap": {},
     "title": ""
    }
   },
   "outputs": [],
   "source": [
    "df_totalcharge.head()"
   ]
  },
  {
   "cell_type": "code",
   "execution_count": 0,
   "metadata": {
    "application/vnd.databricks.v1+cell": {
     "cellMetadata": {
      "byteLimit": 2048000,
      "implicitDf": true,
      "rowLimit": 10000
     },
     "inputWidgets": {},
     "nuid": "351645e3-9596-42cf-959b-7c441e423926",
     "showTitle": false,
     "tableResultSettingsMap": {},
     "title": ""
    }
   },
   "outputs": [],
   "source": [
    "df_totalcharge = spark.sql(\"\"\"\n",
    "\n",
    "SELECT\n",
    "    CASE\n",
    "        WHEN TotalCharges >= 0 AND TotalCharges < 1000 THEN '0-1000'\n",
    "        WHEN TotalCharges >= 1000 AND TotalCharges < 2000 THEN '1000-2000'\n",
    "        WHEN TotalCharges >= 2000 AND TotalCharges < 3000 THEN '2000-3000'\n",
    "        WHEN TotalCharges >= 3000 AND TotalCharges < 4000 THEN '3000-4000'\n",
    "        WHEN TotalCharges >= 4000 THEN '4000+'\n",
    "        ELSE 'Unknown'\n",
    "    END AS CobrancaTotal,\n",
    "    \n",
    "    COUNT(*) AS TotalClientes,\n",
    "    AVG(tenure) AS Media_Tempo_de_Contrato,\n",
    "    STDDEV(tenure) AS Desvio_Tempo_de_Contrato,\n",
    "    AVG(MonthlyCharges) AS Media_Pagamento_Mensal,\n",
    "    STDDEV(MonthlyCharges) AS Desvio_Pagamento_Mensal,\n",
    "    \n",
    "    COUNT(CASE WHEN Churn = 'Yes' THEN 1 END) AS TotalChurn,\n",
    "    (COUNT(CASE WHEN Churn = 'Yes' THEN 1 END) * 1.0) / COUNT(*) AS ProporcaoChurn\n",
    "\n",
    "FROM telecom.silver.teleco_cleaned\n",
    "WHERE TotalCharges IS NOT NULL\n",
    "GROUP BY CobrancaTotal\n",
    "ORDER BY CobrancaTotal ASC;\n",
    "\"\"\"\n",
    ").toPandas()"
   ]
  },
  {
   "cell_type": "code",
   "execution_count": 0,
   "metadata": {
    "application/vnd.databricks.v1+cell": {
     "cellMetadata": {
      "byteLimit": 2048000,
      "rowLimit": 10000
     },
     "inputWidgets": {},
     "nuid": "1327d16d-ba98-448c-99d0-109af87770e3",
     "showTitle": false,
     "tableResultSettingsMap": {},
     "title": ""
    }
   },
   "outputs": [],
   "source": [
    "df_totalcharge"
   ]
  },
  {
   "cell_type": "code",
   "execution_count": 0,
   "metadata": {
    "application/vnd.databricks.v1+cell": {
     "cellMetadata": {},
     "inputWidgets": {},
     "nuid": "6c499947-7cd5-47b5-9b1f-9b9a37895d6a",
     "showTitle": false,
     "tableResultSettingsMap": {},
     "title": ""
    }
   },
   "outputs": [],
   "source": [
    "    '#2F4F4F', # verde\n",
    "    '#353839', # preto\n",
    "    '#5D8AA8', # azul \n",
    "    '#CC7357', # laranja\n",
    "    '#E6C229', # amarelo"
   ]
  },
  {
   "cell_type": "code",
   "execution_count": 0,
   "metadata": {
    "application/vnd.databricks.v1+cell": {
     "cellMetadata": {
      "byteLimit": 2048000,
      "rowLimit": 10000
     },
     "inputWidgets": {},
     "nuid": "26005d67-b60b-4301-b0fa-91e45a21455d",
     "showTitle": false,
     "tableResultSettingsMap": {},
     "title": ""
    }
   },
   "outputs": [],
   "source": [
    "fig, ax = plt.subplots(figsize=(10,6))\n",
    "width = 0.35  # Largura das barras\n",
    "\n",
    "\n",
    "x = np.arange(len(df_totalcharge['CobrancaTotal']))\n",
    "\n",
    "bar1 = ax.bar(x - width/2, df_totalcharge['Media_Tempo_de_Contrato'], width, label='Media_Tempo_de_Contrato', color='#2F4F4F')\n",
    "bar2 = ax.bar(x + width/2, df_totalcharge['Media_Pagamento_Mensal'], width, label='Media_Pagamento_Mensal', color='#CC7357')\n",
    "\n",
    "# Adicionar valores nas barras\n",
    "for bars in [bar1, bar2]:\n",
    "    for bar in bars:\n",
    "        height = bar.get_height()\n",
    "        ax.annotate(f'{height:.1f}', (bar.get_x() + bar.get_width() / 2, height),\n",
    "                    ha='center', va='bottom', fontsize=10)\n",
    "\n",
    "ax.set_xticks(x)\n",
    "ax.set_xticklabels(df_totalcharge['CobrancaTotal'])\n",
    "ax.set_title('Média de Tempo de contrato e pagamento mensal por Faixa de Cobrança Total')\n",
    "ax.set_xlabel('Faixa de Cobrança Total')\n",
    "ax.set_ylabel('Média')\n",
    "ax.legend()\n",
    "plt.savefig(base_path +'/media_tenure_monthlycharges.png', format='png')\n",
    "plt.show()\n",
    "plt.close()\n"
   ]
  },
  {
   "cell_type": "code",
   "execution_count": 0,
   "metadata": {
    "application/vnd.databricks.v1+cell": {
     "cellMetadata": {
      "byteLimit": 2048000,
      "implicitDf": true,
      "rowLimit": 10000
     },
     "inputWidgets": {},
     "nuid": "0bf1d243-f519-4e91-b357-af0e27357784",
     "showTitle": false,
     "tableResultSettingsMap": {},
     "title": ""
    }
   },
   "outputs": [],
   "source": [
    "df_monthcharge = spark.sql(\n",
    "\"\"\"\n",
    "SELECT MonthlyCharges,\n",
    "COUNT (CASE WHEN Churn = 'Yes' THEN 1 ELSE 0 END) AS Churn\n",
    "FROM telecom.silver.teleco_cleaned\n",
    "GROUP BY MonthlyCharges\n",
    "ORDER BY Churn DESC\n",
    "\"\"\"\n",
    "\n",
    ").toPandas()"
   ]
  },
  {
   "cell_type": "code",
   "execution_count": 0,
   "metadata": {
    "application/vnd.databricks.v1+cell": {
     "cellMetadata": {
      "byteLimit": 2048000,
      "rowLimit": 10000
     },
     "inputWidgets": {},
     "nuid": "408afae1-98a9-4589-9a13-27925fd01b35",
     "showTitle": false,
     "tableResultSettingsMap": {},
     "title": ""
    }
   },
   "outputs": [],
   "source": [
    "plt.figure(figsize=(8,6))\n",
    "sns.histplot(df_monthcharge, x='MonthlyCharges', bins=30, kde=True, color='#2F4F4F')\n",
    "plt.yticks(np.arange(0, 100, 10))\n",
    "plt.title('Distribuição de MonthlyCharges')\n",
    "plt.xlabel('MonthlyCharges')\n",
    "plt.ylabel('Frequência')\n",
    "plt.savefig(base_path + '/monthlycharges.png', format='png')\n",
    "plt.show()"
   ]
  },
  {
   "cell_type": "code",
   "execution_count": 0,
   "metadata": {
    "application/vnd.databricks.v1+cell": {
     "cellMetadata": {
      "byteLimit": 2048000,
      "implicitDf": true,
      "rowLimit": 10000
     },
     "inputWidgets": {},
     "nuid": "f2d7d2fa-1cdc-48ff-bf73-c7e8b38db64c",
     "showTitle": false,
     "tableResultSettingsMap": {},
     "title": ""
    }
   },
   "outputs": [],
   "source": [
    "%sql\n",
    "SELECT Churn,\n",
    "      COUNT(*) AS Total\n",
    "FROM telecom.silver.teleco_cleaned\n",
    "GROUP BY Churn\n",
    "\n",
    "\n",
    "\n"
   ]
  },
  {
   "cell_type": "code",
   "execution_count": 0,
   "metadata": {
    "application/vnd.databricks.v1+cell": {
     "cellMetadata": {
      "byteLimit": 2048000,
      "rowLimit": 10000
     },
     "inputWidgets": {},
     "nuid": "92e3c754-da4f-4164-9fb2-c656355521e3",
     "showTitle": false,
     "tableResultSettingsMap": {},
     "title": ""
    }
   },
   "outputs": [],
   "source": [
    "\n",
    "def func(pct, allvals):\n",
    "    absolute = int(pct/100.*sum(allvals))\n",
    "    return f'{pct:.1f}%\\n({absolute} clientes)'\n",
    "\n",
    "df_churn = spark.sql(\"\"\"\n",
    "SELECT \n",
    "    Churn,\n",
    "    COUNT(*) AS TotalClientes,\n",
    "    ROUND(COUNT(*) * 100.0 / SUM(COUNT(*)) OVER(), 2) AS Percentual\n",
    "FROM telecom.silver.teleco_cleaned\n",
    "GROUP BY Churn\n",
    "ORDER BY Churn;                  \"\"\").toPandas()\n",
    "\n",
    "\n",
    "plt.figure(figsize=(8,6))\n",
    "\n",
    "plt.pie(\n",
    "    df_churn['TotalClientes'], \n",
    "    labels=df_churn['Churn'], \n",
    "    autopct=lambda pct: func(pct, df_churn['TotalClientes']),\n",
    "    colors=earth_palette, \n",
    "    wedgeprops={'width': 0.1}  \n",
    ")\n",
    "\n",
    "plt.title('Percentual e Quantidade de Churn na Base de Dados')\n",
    "plt.savefig(base_path + '/percent_churn_total.png', format='png')\n",
    "plt.show()\n"
   ]
  },
  {
   "cell_type": "code",
   "execution_count": 0,
   "metadata": {
    "application/vnd.databricks.v1+cell": {
     "cellMetadata": {},
     "inputWidgets": {},
     "nuid": "6b9e6cd6-75ec-4152-b985-23fd2da0a000",
     "showTitle": false,
     "tableResultSettingsMap": {},
     "title": ""
    }
   },
   "outputs": [],
   "source": [
    "df_techsupport = df_techsupport.melt(id_vars= 'TechSupport', value_vars= ['Yes','No'], var_name='Churn', value_name='total')"
   ]
  }
 ],
 "metadata": {
  "application/vnd.databricks.v1+notebook": {
   "computePreferences": null,
   "dashboards": [],
   "environmentMetadata": {
    "base_environment": "",
    "environment_version": "2"
   },
   "inputWidgetPreferences": null,
   "language": "python",
   "notebookMetadata": {
    "mostRecentlyExecutedCommandWithImplicitDF": {
     "commandId": 5745424926034816,
     "dataframes": [
      "_sqldf"
     ]
    },
    "pythonIndentUnit": 4
   },
   "notebookName": "EDA",
   "widgets": {}
  },
  "language_info": {
   "name": "python"
  }
 },
 "nbformat": 4,
 "nbformat_minor": 0
}
