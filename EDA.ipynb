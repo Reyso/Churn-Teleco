{
 "cells": [
  {
   "cell_type": "markdown",
   "metadata": {
    "application/vnd.databricks.v1+cell": {
     "cellMetadata": {},
     "inputWidgets": {},
     "nuid": "1548abb4-efe9-4057-8230-7f2d1186bfd4",
     "showTitle": false,
     "tableResultSettingsMap": {},
     "title": ""
    }
   },
   "source": [
    "## Bibliotecas"
   ]
  },
  {
   "cell_type": "code",
   "execution_count": 0,
   "metadata": {
    "application/vnd.databricks.v1+cell": {
     "cellMetadata": {
      "byteLimit": 2048000,
      "rowLimit": 10000
     },
     "inputWidgets": {},
     "nuid": "675c74ce-313b-4ebe-a6c4-ef8e9b465260",
     "showTitle": false,
     "tableResultSettingsMap": {},
     "title": ""
    }
   },
   "outputs": [],
   "source": [
    "import pyspark.sql.functions as F\n",
    "import pyspark.pandas as ps\n",
    "import pandas as pd\n",
    "import numpy as np\n",
    "import matplotlib.pyplot as plt\n",
    "from IPython.display import Image, display\n",
    "import seaborn as sns\n",
    "import warnings\n",
    "warnings.filterwarnings(\"ignore\")"
   ]
  },
  {
   "cell_type": "code",
   "execution_count": 0,
   "metadata": {
    "application/vnd.databricks.v1+cell": {
     "cellMetadata": {
      "byteLimit": 2048000,
      "rowLimit": 10000
     },
     "inputWidgets": {},
     "nuid": "c1dea540-cde4-4a7b-92a6-35715b7c6efb",
     "showTitle": false,
     "tableResultSettingsMap": {},
     "title": ""
    }
   },
   "outputs": [],
   "source": [
    "palette = {\"#F72585\",\"#4CC9F0\",\"#7209B7\", \"#3A0CA3\"}\n",
    "sns.set_palette(palette)"
   ]
  },
  {
   "cell_type": "code",
   "execution_count": 0,
   "metadata": {
    "application/vnd.databricks.v1+cell": {
     "cellMetadata": {
      "byteLimit": 2048000,
      "rowLimit": 10000
     },
     "inputWidgets": {},
     "nuid": "39946a12-d0b3-4f92-aaf6-d1c94e483e9b",
     "showTitle": false,
     "tableResultSettingsMap": {},
     "title": ""
    }
   },
   "outputs": [],
   "source": [
    "base_path = 'figures'"
   ]
  },
  {
   "cell_type": "code",
   "execution_count": 0,
   "metadata": {
    "application/vnd.databricks.v1+cell": {
     "cellMetadata": {
      "byteLimit": 2048000,
      "rowLimit": 10000
     },
     "inputWidgets": {},
     "nuid": "01d62528-4ad1-4b39-a4b7-1d60745953a4",
     "showTitle": false,
     "tableResultSettingsMap": {},
     "title": ""
    }
   },
   "outputs": [],
   "source": [
    "def grafico_chrun_vs_x(data:pd.DataFrame ,x:list ):\n",
    "    fig = plt.figure(figsize=(8,5))\n",
    "    ax = sns.barplot(data=data, x=x, y='total', hue='Churn', palette=palette)\n",
    "\n",
    "    for p in ax.patches:\n",
    "        height = p.get_height()\n",
    "        ax.annotate(f'{int(height)}', xy=(p.get_x() + p.get_width() / 2, height),\n",
    "                    xytext=(0, 1), textcoords='offset points',\n",
    "                    ha='center', va='bottom', fontsize=10, color='black')\n",
    "\n",
    "    plt.title(f'{x} x Churn')\n",
    "    plt.xlabel(x)\n",
    "    plt.ylabel(\"Quantidade de Churns\")\n",
    "    plt.legend(title=\"Churn\", bbox_to_anchor=(1.05, 1), loc=2)\n",
    "    \n",
    "    return fig"
   ]
  },
  {
   "cell_type": "markdown",
   "metadata": {
    "application/vnd.databricks.v1+cell": {
     "cellMetadata": {},
     "inputWidgets": {},
     "nuid": "b8c28387-febd-4d31-9549-9d4fff4e4465",
     "showTitle": false,
     "tableResultSettingsMap": {},
     "title": ""
    }
   },
   "source": [
    "## Importando dataframe"
   ]
  },
  {
   "cell_type": "code",
   "execution_count": 0,
   "metadata": {
    "application/vnd.databricks.v1+cell": {
     "cellMetadata": {
      "byteLimit": 2048000,
      "implicitDf": true,
      "rowLimit": 10000
     },
     "inputWidgets": {},
     "nuid": "34dcd9cc-3868-474b-81e5-1e3a2a7bbbbf",
     "showTitle": false,
     "tableResultSettingsMap": {},
     "title": ""
    }
   },
   "outputs": [],
   "source": [
    "%sql\n",
    "\n",
    "SELECT * FROM telecom.silver.teleco_cleaned\n",
    "LIMIT 10;"
   ]
  },
  {
   "cell_type": "markdown",
   "metadata": {
    "application/vnd.databricks.v1+cell": {
     "cellMetadata": {},
     "inputWidgets": {},
     "nuid": "9e2ea174-9224-4f88-a3e1-d6abaebf47f9",
     "showTitle": false,
     "tableResultSettingsMap": {},
     "title": ""
    }
   },
   "source": [
    "# Analise 1 - Grupos de clientes"
   ]
  },
  {
   "cell_type": "markdown",
   "metadata": {
    "application/vnd.databricks.v1+cell": {
     "cellMetadata": {},
     "inputWidgets": {},
     "nuid": "d0b4c543-d8df-413c-83f3-9a9b0ae835fa",
     "showTitle": false,
     "tableResultSettingsMap": {},
     "title": ""
    }
   },
   "source": [
    "vamos verificar a relação dos tipos de cliente com a variável alvo\n",
    "\n",
    "(gender | SeniorCitizen | Partner | Dependents |)  VS  chrun"
   ]
  },
  {
   "cell_type": "markdown",
   "metadata": {
    "application/vnd.databricks.v1+cell": {
     "cellMetadata": {},
     "inputWidgets": {},
     "nuid": "39487bc5-f103-44af-9f5b-b974070bf35e",
     "showTitle": false,
     "tableResultSettingsMap": {},
     "title": ""
    }
   },
   "source": [
    "## Gender x Chrun"
   ]
  },
  {
   "cell_type": "code",
   "execution_count": 0,
   "metadata": {
    "application/vnd.databricks.v1+cell": {
     "cellMetadata": {
      "byteLimit": 2048000,
      "implicitDf": true,
      "rowLimit": 10000
     },
     "inputWidgets": {},
     "nuid": "5942c654-9b6f-49da-acc3-d8fe5c41d968",
     "showTitle": false,
     "tableResultSettingsMap": {},
     "title": ""
    }
   },
   "outputs": [],
   "source": [
    "%sql\n",
    "\n",
    "    SELECT \n",
    "    gender,\n",
    "    SUM(CASE WHEN churn = 'Yes' THEN 1 ELSE 0 END) AS churned,\n",
    "    SUM(CASE WHEN churn = 'No' THEN 1 ELSE 0 END) AS not_churned\n",
    "    FROM telecom.silver.teleco_cleaned\n",
    "    GROUP BY gender\n",
    "    ORDER BY gender;"
   ]
  },
  {
   "cell_type": "code",
   "execution_count": 0,
   "metadata": {
    "application/vnd.databricks.v1+cell": {
     "cellMetadata": {
      "byteLimit": 2048000,
      "rowLimit": 10000
     },
     "inputWidgets": {},
     "nuid": "6d8d4016-e4bc-4306-8951-e2e46b0315cd",
     "showTitle": false,
     "tableResultSettingsMap": {},
     "title": ""
    }
   },
   "outputs": [],
   "source": [
    "df_churn_by_gender = spark.sql(\"\"\"\n",
    "                               \n",
    "    SELECT \n",
    "    gender,\n",
    "    SUM(CASE WHEN churn = 'Yes' THEN 1 ELSE 0 END) AS Yes,\n",
    "    SUM(CASE WHEN churn = 'No' THEN 1 ELSE 0 END) AS No\n",
    "    FROM telecom.silver.teleco_cleaned\n",
    "    GROUP BY gender\n",
    "    ORDER BY gender;\n",
    "\n",
    "\n",
    "\"\"\"\n",
    ").toPandas()"
   ]
  },
  {
   "cell_type": "markdown",
   "metadata": {
    "application/vnd.databricks.v1+cell": {
     "cellMetadata": {},
     "inputWidgets": {},
     "nuid": "5ba8332e-95fc-4467-83dc-10bb740d12f4",
     "showTitle": false,
     "tableResultSettingsMap": {},
     "title": ""
    }
   },
   "source": [
    "unpivot no dataframe, para conseguirmos extrair o quantidade churn e não churn por gênero."
   ]
  },
  {
   "cell_type": "code",
   "execution_count": 0,
   "metadata": {
    "application/vnd.databricks.v1+cell": {
     "cellMetadata": {
      "byteLimit": 2048000,
      "rowLimit": 10000
     },
     "inputWidgets": {},
     "nuid": "fd33a734-bd96-44b3-9abc-59601cbcea80",
     "showTitle": false,
     "tableResultSettingsMap": {},
     "title": ""
    }
   },
   "outputs": [],
   "source": [
    "df_churn_by_gender = df_churn_by_gender.melt(\n",
    "    id_vars='gender',\n",
    "    value_vars=['Yes','No'],\n",
    "    var_name='Churn',value_name='total')\n",
    "\n",
    "print(df_churn_by_gender)"
   ]
  },
  {
   "cell_type": "code",
   "execution_count": 0,
   "metadata": {
    "application/vnd.databricks.v1+cell": {
     "cellMetadata": {
      "byteLimit": 2048000,
      "rowLimit": 10000
     },
     "inputWidgets": {},
     "nuid": "a1aa530a-e794-4bf0-8e69-5ed0e94b4947",
     "showTitle": false,
     "tableResultSettingsMap": {},
     "title": ""
    }
   },
   "outputs": [],
   "source": [
    "fig_churn_gen = grafico_chrun_vs_x(df_churn_by_gender,'gender')\n",
    "fig_churn_gen.savefig(base_path+'/churn_by_gender.png', format = 'png')\n",
    "plt.close()\n",
    "display(Image(filename=base_path + '/churn_by_gender.png'))"
   ]
  },
  {
   "cell_type": "markdown",
   "metadata": {
    "application/vnd.databricks.v1+cell": {
     "cellMetadata": {},
     "inputWidgets": {},
     "nuid": "ac266801-686a-4994-a122-9053e3a63287",
     "showTitle": false,
     "tableResultSettingsMap": {},
     "title": ""
    }
   },
   "source": [
    "## SeniorCitizen x Churn"
   ]
  },
  {
   "cell_type": "code",
   "execution_count": 0,
   "metadata": {
    "application/vnd.databricks.v1+cell": {
     "cellMetadata": {
      "byteLimit": 2048000,
      "rowLimit": 10000
     },
     "collapsed": true,
     "inputWidgets": {},
     "nuid": "910802ae-eda9-4d73-a905-ab6f24f97fd0",
     "showTitle": false,
     "tableResultSettingsMap": {},
     "title": ""
    }
   },
   "outputs": [],
   "source": [
    "df_churn_by_senior = spark.sql(\"\"\"\n",
    "                               \n",
    "       SELECT SeniorCitizen,\n",
    "       SUM(CASE WHEN churn = 'Yes' THEN 1 ELSE 0 END) AS Yes,\n",
    "       SUM(CASE WHEN churn = 'No' THEN 1 ELSE 0 END )AS No\n",
    "       FROM telecom.silver.teleco_cleaned\n",
    "       GROUP BY SeniorCitizen\n",
    "\"\"\"\n",
    ").toPandas()"
   ]
  },
  {
   "cell_type": "code",
   "execution_count": 0,
   "metadata": {
    "application/vnd.databricks.v1+cell": {
     "cellMetadata": {
      "byteLimit": 2048000,
      "rowLimit": 10000
     },
     "inputWidgets": {},
     "nuid": "d3886ffe-9b33-4c77-aded-2a8d289f00fa",
     "showTitle": false,
     "tableResultSettingsMap": {},
     "title": ""
    }
   },
   "outputs": [],
   "source": [
    "df_churn_by_senior = df_churn_by_senior.melt(id_vars = 'SeniorCitizen' , value_vars=['Yes','No'], var_name='Churn', value_name='total')\n"
   ]
  },
  {
   "cell_type": "code",
   "execution_count": 0,
   "metadata": {
    "application/vnd.databricks.v1+cell": {
     "cellMetadata": {
      "byteLimit": 2048000,
      "rowLimit": 10000
     },
     "inputWidgets": {},
     "nuid": "416a9183-055b-409d-aaf8-7a8fddc038ac",
     "showTitle": false,
     "tableResultSettingsMap": {},
     "title": ""
    }
   },
   "outputs": [],
   "source": [
    "grafico_chrun_vs_x(df_churn_by_senior,'SeniorCitizen')"
   ]
  },
  {
   "cell_type": "markdown",
   "metadata": {
    "application/vnd.databricks.v1+cell": {
     "cellMetadata": {},
     "inputWidgets": {},
     "nuid": "6d95a19d-4bfd-4c98-a352-b870ae956b8a",
     "showTitle": false,
     "tableResultSettingsMap": {},
     "title": ""
    }
   },
   "source": [
    "## Partner x Chrun"
   ]
  },
  {
   "cell_type": "code",
   "execution_count": 0,
   "metadata": {
    "application/vnd.databricks.v1+cell": {
     "cellMetadata": {
      "byteLimit": 2048000,
      "implicitDf": true,
      "rowLimit": 10000
     },
     "collapsed": true,
     "inputWidgets": {},
     "nuid": "54fd522b-0410-4700-9591-8520ab715498",
     "showTitle": false,
     "tableResultSettingsMap": {},
     "title": ""
    }
   },
   "outputs": [],
   "source": [
    "%sql\n",
    "\n",
    "    SELECT Partner,\n",
    "    SUM (CASE WHEN churn = 'Yes' THEN 1 ELSE 0 END) AS Yes,\n",
    "    SUM (CASE WHEN churn = 'No' THEN 1 ELSE 0 END) AS No\n",
    "    FROM telecom.silver.teleco_cleaned\n",
    "    GROUP BY Partner\n",
    "    ORDER BY Partner"
   ]
  },
  {
   "cell_type": "code",
   "execution_count": 0,
   "metadata": {
    "application/vnd.databricks.v1+cell": {
     "cellMetadata": {
      "byteLimit": 2048000,
      "rowLimit": 10000
     },
     "collapsed": true,
     "inputWidgets": {},
     "nuid": "867d3aac-1398-4ee3-b669-5a6c525ff734",
     "showTitle": false,
     "tableResultSettingsMap": {},
     "title": ""
    }
   },
   "outputs": [],
   "source": [
    "df_churn_by_partner = spark.sql(\"\"\"\n",
    "    SELECT Partner,\n",
    "    SUM (CASE WHEN churn = 'Yes' THEN 1 ELSE 0 END) AS Yes,\n",
    "    SUM (CASE WHEN churn = 'No' THEN 1 ELSE 0 END) AS No\n",
    "    FROM telecom.silver.teleco_cleaned\n",
    "    GROUP BY Partner\n",
    "    ORDER BY Partner\n",
    "\"\"\").toPandas()\n"
   ]
  },
  {
   "cell_type": "code",
   "execution_count": 0,
   "metadata": {
    "application/vnd.databricks.v1+cell": {
     "cellMetadata": {
      "byteLimit": 2048000,
      "rowLimit": 10000
     },
     "collapsed": true,
     "inputWidgets": {},
     "nuid": "77f69b10-057f-4c67-8524-714c98967e5d",
     "showTitle": false,
     "tableResultSettingsMap": {},
     "title": ""
    }
   },
   "outputs": [],
   "source": [
    "df_churn_by_partner = df_churn_by_partner.melt(id_vars='Partner', value_vars=['Yes','No'], var_name='Churn', value_name='total')"
   ]
  },
  {
   "cell_type": "code",
   "execution_count": 0,
   "metadata": {
    "application/vnd.databricks.v1+cell": {
     "cellMetadata": {
      "byteLimit": 2048000,
      "rowLimit": 10000
     },
     "inputWidgets": {},
     "nuid": "f421f81c-7127-464a-b3d5-f420b3651dfe",
     "showTitle": false,
     "tableResultSettingsMap": {},
     "title": ""
    }
   },
   "outputs": [],
   "source": [
    "grafico_chrun_vs_x(df_churn_by_partner,'Partner')"
   ]
  },
  {
   "cell_type": "markdown",
   "metadata": {
    "application/vnd.databricks.v1+cell": {
     "cellMetadata": {},
     "inputWidgets": {},
     "nuid": "2bcc1553-3706-484a-ae4f-495357b4b5c9",
     "showTitle": false,
     "tableResultSettingsMap": {},
     "title": ""
    }
   },
   "source": [
    "## Dependents x Chrun"
   ]
  },
  {
   "cell_type": "code",
   "execution_count": 0,
   "metadata": {
    "application/vnd.databricks.v1+cell": {
     "cellMetadata": {
      "byteLimit": 2048000,
      "implicitDf": true,
      "rowLimit": 10000
     },
     "collapsed": true,
     "inputWidgets": {},
     "nuid": "29153f57-a49b-4d17-a8b8-46fe58e03cec",
     "showTitle": false,
     "tableResultSettingsMap": {},
     "title": ""
    }
   },
   "outputs": [],
   "source": [
    "%sql\n",
    "\n",
    "    SELECT Dependents,\n",
    "    SUM (CASE WHEN churn = 'Yes' THEN 1 ELSE 0 END) AS Yes,\n",
    "    SUM (CASE WHEN churn = 'No' THEN 1 ELSE 0 END) AS No\n",
    "    FROM telecom.silver.teleco_cleaned\n",
    "    GROUP BY Dependents\n",
    "    ORDER BY Dependents"
   ]
  },
  {
   "cell_type": "code",
   "execution_count": 0,
   "metadata": {
    "application/vnd.databricks.v1+cell": {
     "cellMetadata": {
      "byteLimit": 2048000,
      "rowLimit": 10000
     },
     "collapsed": true,
     "inputWidgets": {},
     "nuid": "9a11bcf6-ff98-4b95-9e9c-f7407252ee55",
     "showTitle": false,
     "tableResultSettingsMap": {},
     "title": ""
    }
   },
   "outputs": [],
   "source": [
    "df_churn_by_dep = spark.sql(\n",
    "\"\"\"\n",
    "\n",
    "    SELECT Dependents,\n",
    "    SUM (CASE WHEN churn = 'Yes' THEN 1 ELSE 0 END) AS Yes,\n",
    "    SUM (CASE WHEN churn = 'No' THEN 1 ELSE 0 END) AS No\n",
    "    FROM telecom.silver.teleco_cleaned\n",
    "    GROUP BY Dependents\n",
    "    ORDER BY Dependents\n",
    "\n",
    "\n",
    "\"\"\").toPandas()"
   ]
  },
  {
   "cell_type": "code",
   "execution_count": 0,
   "metadata": {
    "application/vnd.databricks.v1+cell": {
     "cellMetadata": {
      "byteLimit": 2048000,
      "rowLimit": 10000
     },
     "collapsed": true,
     "inputWidgets": {},
     "nuid": "a92dd57b-5d7f-456c-9ca3-ce3f0b705d94",
     "showTitle": false,
     "tableResultSettingsMap": {},
     "title": ""
    }
   },
   "outputs": [],
   "source": [
    "df_churn_by_dep = df_churn_by_dep.melt(id_vars='Dependents', value_vars=['Yes','No'], var_name='Churn', value_name='total')"
   ]
  },
  {
   "cell_type": "code",
   "execution_count": 0,
   "metadata": {
    "application/vnd.databricks.v1+cell": {
     "cellMetadata": {
      "byteLimit": 2048000,
      "rowLimit": 10000
     },
     "inputWidgets": {},
     "nuid": "f132bfa3-ba85-47e0-a8fb-d37e604ebe9a",
     "showTitle": false,
     "tableResultSettingsMap": {},
     "title": ""
    }
   },
   "outputs": [],
   "source": [
    "grafico_chrun_vs_x(df_churn_by_dep,'Dependents')"
   ]
  },
  {
   "cell_type": "code",
   "execution_count": 0,
   "metadata": {
    "application/vnd.databricks.v1+cell": {
     "cellMetadata": {
      "byteLimit": 2048000,
      "rowLimit": 10000
     },
     "inputWidgets": {},
     "nuid": "27ee44ba-8997-44e0-bca6-58759bb14676",
     "showTitle": false,
     "tableResultSettingsMap": {},
     "title": ""
    }
   },
   "outputs": [],
   "source": [
    "## Distribuição de churn por tipo de contrato\n",
    "\n",
    "df_contrato = spark.sql(\"\"\"\n",
    "\n",
    "    SELECT Contract,\n",
    "           SUM(CASE WHEN Churn = 'Yes' THEN 1 ELSE 0 END) AS churned\n",
    "    FROM telecom.silver.teleco_cleaned\n",
    "    GROUP BY Contract\n",
    "\n",
    "\"\"\").toPandas()\n",
    "\n",
    "\n",
    "# Ordena os contratos do maior para o menor número de churn\n",
    "df_churn_by_contract = df_contrato.sort_values(by=\"churned\", ascending=False)\n",
    "\n",
    "plt.figure(figsize=(8, 5))\n",
    "ax = sns.barplot(data=df_churn_by_contract, x=\"Contract\", y=\"churned\", palette=palette)\n",
    "# plt.legend(bbox_to_anchor=(1.05, 1), loc=2, borderaxespad=0)\n",
    "\n",
    "\n",
    "for p in ax.patches:\n",
    "    height = p.get_height()\n",
    "    ax.annotate(f'{int(height)}', xy=(p.get_x() + p.get_width() / 2, height),\n",
    "                xytext=(0, 1), textcoords='offset points',\n",
    "                ha='center', va='bottom', fontsize=10, color='black')\n",
    "\n",
    "plt.title(\"Número de Clientes que Deram Churn por Tipo de Contrato\")\n",
    "plt.xlabel(\"Tipo de Contrato\")\n",
    "plt.ylabel(\"Quantidade de Churns\")\n",
    "\n",
    "\n",
    "\n",
    "plt.tight_layout()\n",
    "plt.show()"
   ]
  }
 ],
 "metadata": {
  "application/vnd.databricks.v1+notebook": {
   "computePreferences": null,
   "dashboards": [],
   "environmentMetadata": {
    "base_environment": "",
    "environment_version": "2"
   },
   "inputWidgetPreferences": null,
   "language": "python",
   "notebookMetadata": {
    "mostRecentlyExecutedCommandWithImplicitDF": {
     "commandId": 8933395412977198,
     "dataframes": [
      "_sqldf"
     ]
    },
    "pythonIndentUnit": 4
   },
   "notebookName": "EDA",
   "widgets": {}
  },
  "language_info": {
   "name": "python"
  }
 },
 "nbformat": 4,
 "nbformat_minor": 0
}
