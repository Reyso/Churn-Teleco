{
 "cells": [
  {
   "cell_type": "markdown",
   "metadata": {
    "application/vnd.databricks.v1+cell": {
     "cellMetadata": {},
     "inputWidgets": {},
     "nuid": "3d9acd25-d1b0-46a9-b35b-bb5765e83fc1",
     "showTitle": false,
     "tableResultSettingsMap": {},
     "title": ""
    }
   },
   "source": [
    "## Bibliotecas"
   ]
  },
  {
   "cell_type": "code",
   "execution_count": 0,
   "metadata": {
    "application/vnd.databricks.v1+cell": {
     "cellMetadata": {
      "byteLimit": 2048000,
      "rowLimit": 10000
     },
     "inputWidgets": {},
     "nuid": "2492a54a-1999-44f4-8291-bdbaad368570",
     "showTitle": false,
     "tableResultSettingsMap": {},
     "title": ""
    }
   },
   "outputs": [],
   "source": [
    "!pip install xgboost"
   ]
  },
  {
   "cell_type": "code",
   "execution_count": 0,
   "metadata": {
    "application/vnd.databricks.v1+cell": {
     "cellMetadata": {
      "byteLimit": 2048000,
      "rowLimit": 10000
     },
     "inputWidgets": {},
     "nuid": "ed55f232-dc8e-4864-9925-7bf14df6786b",
     "showTitle": false,
     "tableResultSettingsMap": {},
     "title": ""
    }
   },
   "outputs": [],
   "source": [
    "import pyspark.sql.functions as F\n",
    "from sklearn.model_selection import train_test_split\n",
    "from pyspark.ml.feature import VectorAssembler\n",
    "import pandas as pd\n",
    "import numpy as np\n",
    "import matplotlib.pyplot as plt\n",
    "import mlflow\n",
    "import seaborn as sns\n",
    "\n",
    "colors = ['#353839', '#5D8AA8']"
   ]
  },
  {
   "cell_type": "code",
   "execution_count": 0,
   "metadata": {
    "application/vnd.databricks.v1+cell": {
     "cellMetadata": {
      "byteLimit": 2048000,
      "rowLimit": 10000
     },
     "inputWidgets": {},
     "nuid": "cb221dab-ea35-4f40-8d27-6ff1b7ddd756",
     "showTitle": false,
     "tableResultSettingsMap": {},
     "title": ""
    }
   },
   "outputs": [],
   "source": [
    "def split(df):\n",
    "#     df = df.toPandas()\n",
    "    X = df.drop(columns=['label'])\n",
    "    y = df['label']\n",
    "\n",
    "    # Treino e teste\n",
    "    X_train, X_test, y_train, y_test = train_test_split(\n",
    "    X, y, test_size=0.2, \n",
    "    random_state=42,\n",
    "    stratify=y )\n",
    "\n",
    "    # Treino e validação\n",
    "    X_train, X_val, y_train, y_val = train_test_split( X_train,y_train,\n",
    "    test_size=0.25,  # 0.25 * 0.8 = 0.2 do total\n",
    "    random_state=42,\n",
    "    stratify=y_train)\n",
    "\n",
    "    sizes = [len(X_train),len(X_val),len(X_test)]\n",
    "    labels = [f'Treino\\n{sizes[0]} amostras\\n({sizes[0]/sum(sizes):.1%})', \n",
    "            f'Validação\\n{sizes[1]} amostras\\n({sizes[1]/sum(sizes):.1%})', \n",
    "            f'Teste\\n{sizes[2]} amostras\\n({sizes[2]/sum(sizes):.1%})']\n",
    "\n",
    "    plt.figure(figsize=(8,6))\n",
    "\n",
    "    # Cores sugestivas\n",
    "    colors = ['#353839', '#E6C229', '#5D8AA8']\n",
    "\n",
    "    # Criar figura\n",
    "    plt.figure(figsize=(8, 6))\n",
    "    plt.pie(sizes, \n",
    "            labels=labels, \n",
    "            colors=colors,\n",
    "            autopct='%1.1f%%', \n",
    "            startangle=90,\n",
    "            wedgeprops={'width': 0.1})\n",
    "\n",
    "    return X_train, X_val, X_test, y_train, y_val, y_test\n"
   ]
  },
  {
   "cell_type": "code",
   "execution_count": 0,
   "metadata": {
    "application/vnd.databricks.v1+cell": {
     "cellMetadata": {
      "byteLimit": 2048000,
      "rowLimit": 10000
     },
     "inputWidgets": {},
     "nuid": "d54d651c-ee12-4a72-bb93-16771d97fe4e",
     "showTitle": false,
     "tableResultSettingsMap": {},
     "title": ""
    }
   },
   "outputs": [],
   "source": [
    "df_spark = spark.table('telecom.gold.teleco_ml_ready')"
   ]
  },
  {
   "cell_type": "code",
   "execution_count": 0,
   "metadata": {
    "application/vnd.databricks.v1+cell": {
     "cellMetadata": {
      "byteLimit": 2048000,
      "rowLimit": 10000
     },
     "inputWidgets": {},
     "nuid": "8fe6ec65-2f00-45f2-a18a-baf0bb7a4909",
     "showTitle": false,
     "tableResultSettingsMap": {},
     "title": ""
    }
   },
   "outputs": [],
   "source": [
    "# utilizarei a coluna 'label' para a variavel alvo (target)\n",
    "df_spark = df_spark.drop('Churn')\n",
    "df = df_spark.toPandas()\n",
    "\n",
    "aux = df['label'].copy()\n",
    "df = df.drop(columns=['label'])\n",
    "df['label'] = aux\n",
    "\n",
    "df.head()\n"
   ]
  },
  {
   "cell_type": "code",
   "execution_count": 0,
   "metadata": {
    "application/vnd.databricks.v1+cell": {
     "cellMetadata": {
      "byteLimit": 2048000,
      "rowLimit": 10000
     },
     "inputWidgets": {},
     "nuid": "1fdcf8af-15a2-4634-9fc3-a0c81d77717c",
     "showTitle": false,
     "tableResultSettingsMap": {},
     "title": ""
    }
   },
   "outputs": [],
   "source": [
    "X_train, X_val, X_test, y_train, y_val, y_test = split(df)"
   ]
  },
  {
   "cell_type": "markdown",
   "metadata": {
    "application/vnd.databricks.v1+cell": {
     "cellMetadata": {},
     "inputWidgets": {},
     "nuid": "f45b404a-eb17-46e4-a00d-b982a19c7bc9",
     "showTitle": false,
     "tableResultSettingsMap": {},
     "title": ""
    }
   },
   "source": [
    "## Feature Engineering"
   ]
  },
  {
   "cell_type": "code",
   "execution_count": 0,
   "metadata": {
    "application/vnd.databricks.v1+cell": {
     "cellMetadata": {
      "byteLimit": 2048000,
      "rowLimit": 10000
     },
     "inputWidgets": {},
     "nuid": "53526189-1dc9-4448-bf6f-8e4c37f8f3ae",
     "showTitle": false,
     "tableResultSettingsMap": {},
     "title": ""
    }
   },
   "outputs": [],
   "source": [
    "col = list(df.columns)\n",
    "categorical_features = []\n",
    "numerical_features = []\n",
    "for i in col:\n",
    "    if len(df[i].unique()) > 6:\n",
    "        numerical_features.append(i)\n",
    "    else:\n",
    "        categorical_features.append(i)\n",
    "        \n",
    "categorical_features.remove('label')\n",
    "print('Categorical Features :',*categorical_features)\n",
    "print('Numerical Features :',*numerical_features)"
   ]
  },
  {
   "cell_type": "code",
   "execution_count": 0,
   "metadata": {
    "application/vnd.databricks.v1+cell": {
     "cellMetadata": {
      "byteLimit": 2048000,
      "rowLimit": 10000
     },
     "inputWidgets": {},
     "nuid": "c1a5e159-0ae5-4a9d-97bc-70315371ed1f",
     "showTitle": false,
     "tableResultSettingsMap": {},
     "title": ""
    }
   },
   "outputs": [],
   "source": [
    "corr = df.corrwith(df['label']).sort_values(ascending=False).to_frame()\n",
    "corr.columns = ['Correlation']\n",
    "plt.figure(figsize=(5,8))\n",
    "sns.heatmap(corr,annot=True,cmap=colors,linewidths=.8,linecolor='black',vmin=-1,vmax=1)\n",
    "plt.tight_layout()\n",
    "plt.show()\n",
    "\n"
   ]
  },
  {
   "cell_type": "markdown",
   "metadata": {
    "application/vnd.databricks.v1+cell": {
     "cellMetadata": {},
     "inputWidgets": {},
     "nuid": "b6e98211-f07a-4d85-bdc8-943ed452ad6a",
     "showTitle": false,
     "tableResultSettingsMap": {},
     "title": ""
    }
   },
   "source": [
    "notamos que há algumas features que não apresentam correlação relevante. Irei dropar as colunas que tenham correlação entre (-0.1,0.1)"
   ]
  },
  {
   "cell_type": "code",
   "execution_count": 0,
   "metadata": {
    "application/vnd.databricks.v1+cell": {
     "cellMetadata": {
      "byteLimit": 2048000,
      "rowLimit": 10000
     },
     "inputWidgets": {},
     "nuid": "44405716-2d0c-4fdc-96ad-99cdac415e14",
     "showTitle": false,
     "tableResultSettingsMap": {},
     "title": ""
    }
   },
   "outputs": [],
   "source": [
    "no_corr = corr.loc[(corr['Correlation'] > -0.1) & (corr['Correlation'] < 0.1)].reset_index()\n",
    "no_corr = list(no_corr['index'])\n",
    "print(no_corr)\n"
   ]
  },
  {
   "cell_type": "markdown",
   "metadata": {
    "application/vnd.databricks.v1+cell": {
     "cellMetadata": {},
     "inputWidgets": {},
     "nuid": "e6bef289-e0b1-4c5d-91a9-a1e998d7ad8a",
     "showTitle": false,
     "tableResultSettingsMap": {},
     "title": ""
    }
   },
   "source": [
    "## Feature selection"
   ]
  },
  {
   "cell_type": "code",
   "execution_count": 0,
   "metadata": {
    "application/vnd.databricks.v1+cell": {
     "cellMetadata": {
      "byteLimit": 2048000,
      "rowLimit": 10000
     },
     "inputWidgets": {},
     "nuid": "bd0b6d21-2ca4-4a09-a33b-e805bbc5ec80",
     "showTitle": false,
     "tableResultSettingsMap": {},
     "title": ""
    }
   },
   "outputs": [],
   "source": [
    "from sklearn.feature_selection import SelectKBest\n",
    "from sklearn.feature_selection import chi2,mutual_info_classif\n"
   ]
  },
  {
   "cell_type": "code",
   "execution_count": 0,
   "metadata": {
    "application/vnd.databricks.v1+cell": {
     "cellMetadata": {
      "byteLimit": 2048000,
      "rowLimit": 10000
     },
     "inputWidgets": {},
     "nuid": "a7cdd7b5-2902-4f2c-9abe-783f05f437a0",
     "showTitle": false,
     "tableResultSettingsMap": {},
     "title": ""
    }
   },
   "outputs": [],
   "source": [
    "features = df.loc[:,categorical_features]\n",
    "target = df.loc[:,'label']\n",
    "\n",
    "# teste qui2 para analsie de categorical features\n",
    "best_features = SelectKBest(score_func = chi2,k = 'all')\n",
    "fit = best_features.fit(features,target)\n",
    "\n",
    "featureScores = pd.DataFrame(data = fit.scores_,index = list(features.columns),columns = ['Chi Squared Score']) \n",
    "\n",
    "plt.subplots(figsize = (5,8))\n",
    "sns.heatmap(featureScores.sort_values(ascending = False,by = 'Chi Squared Score'),annot = True,cmap = colors,linewidths = 0.4,linecolor = 'black',fmt = '.2f');\n",
    "plt.title('Selection of Categorical Features');"
   ]
  },
  {
   "cell_type": "code",
   "execution_count": 0,
   "metadata": {
    "application/vnd.databricks.v1+cell": {
     "cellMetadata": {
      "byteLimit": 2048000,
      "rowLimit": 10000
     },
     "inputWidgets": {},
     "nuid": "3010de43-6045-4b5a-be05-cf4df153725b",
     "showTitle": false,
     "tableResultSettingsMap": {},
     "title": ""
    }
   },
   "outputs": [],
   "source": [
    "featureScores\n",
    "\n",
    "bad_features = featureScores.loc[(featureScores['Chi Squared Score'] < 20)].reset_index()\n",
    "bad_features = list(bad_features['index'])\n",
    "print(bad_features)\n"
   ]
  },
  {
   "cell_type": "code",
   "execution_count": 0,
   "metadata": {
    "application/vnd.databricks.v1+cell": {
     "cellMetadata": {
      "byteLimit": 2048000,
      "rowLimit": 10000
     },
     "inputWidgets": {},
     "nuid": "586fe316-f33b-4d68-8e28-4250c2b9f97b",
     "showTitle": false,
     "tableResultSettingsMap": {},
     "title": ""
    }
   },
   "outputs": [],
   "source": [
    "cols_to_drop = list(set(no_corr) | set(bad_features))\n",
    "\n",
    "cols_to_drop"
   ]
  },
  {
   "cell_type": "code",
   "execution_count": 0,
   "metadata": {
    "application/vnd.databricks.v1+cell": {
     "cellMetadata": {
      "byteLimit": 2048000,
      "rowLimit": 10000
     },
     "inputWidgets": {},
     "nuid": "10e677fc-4c59-4c64-8138-d5765eb9d0b7",
     "showTitle": false,
     "tableResultSettingsMap": {},
     "title": ""
    }
   },
   "outputs": [],
   "source": [
    "df_final = df.drop(columns=cols_to_drop)\n",
    "print(df_final.shape)"
   ]
  },
  {
   "cell_type": "code",
   "execution_count": 0,
   "metadata": {
    "application/vnd.databricks.v1+cell": {
     "cellMetadata": {
      "byteLimit": 2048000,
      "rowLimit": 10000
     },
     "inputWidgets": {},
     "nuid": "3e042021-e068-43d2-977f-48f48579724a",
     "showTitle": false,
     "tableResultSettingsMap": {},
     "title": ""
    }
   },
   "outputs": [],
   "source": [
    "!pip install -U imbalanced-learn\n",
    "import imblearn\n",
    "from collections import Counter\n",
    "from imblearn.over_sampling import SMOTE\n",
    "from imblearn.under_sampling import RandomUnderSampler\n",
    "from imblearn.pipeline import Pipeline"
   ]
  },
  {
   "cell_type": "code",
   "execution_count": 0,
   "metadata": {
    "application/vnd.databricks.v1+cell": {
     "cellMetadata": {
      "byteLimit": 2048000,
      "rowLimit": 10000
     },
     "inputWidgets": {},
     "nuid": "7fa7e195-2a08-4969-a9ef-48d1cd6e1fc8",
     "showTitle": false,
     "tableResultSettingsMap": {},
     "title": ""
    }
   },
   "outputs": [],
   "source": [
    "from sklearn.preprocessing import StandardScaler, MinMaxScaler , FunctionTransformer\n",
    "from sklearn.pipeline import Pipeline\n",
    "from sklearn.compose import ColumnTransformer\n",
    "from imblearn.pipeline import make_pipeline \n",
    "\n",
    "\n",
    "\n",
    "def drop_categorical_columns(X,column = cols_to_drop ):\n",
    "    return X.drop(columns=column)\n",
    "\n",
    "categorical_pipeline = Pipeline([\n",
    "    ('drop', FunctionTransformer(drop_categorical_columns))\n",
    "])\n",
    "\n",
    "prep_pipeline = ColumnTransformer(\n",
    "    [('minmax', MinMaxScaler(), numerical_features),\n",
    "     ('cat', categorical_pipeline, categorical_features)]\n",
    ")\n",
    "\n",
    "# Pipeline final com SMOTE\n",
    "full_pipeline = make_pipeline(\n",
    "    prep_pipeline,\n",
    "    SMOTE(sampling_strategy = 1,random_state=42)  \n",
    ")\n",
    "\n",
    "\n"
   ]
  },
  {
   "cell_type": "code",
   "execution_count": 0,
   "metadata": {
    "application/vnd.databricks.v1+cell": {
     "cellMetadata": {
      "byteLimit": 2048000,
      "rowLimit": 10000
     },
     "inputWidgets": {},
     "nuid": "cef08b65-7036-4e31-a3a7-3c083af6a2d1",
     "showTitle": false,
     "tableResultSettingsMap": {},
     "title": ""
    }
   },
   "outputs": [],
   "source": [
    "# --------------------------------------------\n",
    "# 1. Dados de TREINO \n",
    "# --------------------------------------------\n",
    "# Com SMOTE (balanceados)\n",
    "X_train_smote, y_train_smote = full_pipeline.fit_resample(X_train, y_train)\n",
    "\n",
    "# Sem SMOTE (apenas pré-processados)\n",
    "X_train_prep,y_train_prep = prep_pipeline.fit_transform(X_train),y_train  # y_train não muda\n",
    "\n",
    "# --------------------------------------------\n",
    "# 2. Dados de VALIDAÇÃO (sem SMOTE)\n",
    "# --------------------------------------------\n",
    "X_val_prep,y_val_prep = prep_pipeline.transform(X_val),y_val  # y_val não muda\n",
    "\n",
    "# --------------------------------------------\n",
    "# 3. Dados de TESTE (sem SMOTE) - GUARDE PARA O FINAL!\n",
    "# --------------------------------------------\n",
    "X_test_prep,y_test_prep = prep_pipeline.transform(X_test),y_test  # y_test não muda\n",
    "\n",
    "# Verificação\n",
    "print(\"\\n--- Shapes ---\")\n",
    "print(f\"Treino (SMOTE): {X_train_smote.shape}, Target: {y_train_smote.shape}\")\n",
    "print(f\"Treino (sem SMOTE): {X_train_prep.shape}, Target: {y_train.shape}\")\n",
    "print(f\"Validação: {X_val_prep.shape}, Target: {y_val.shape}\")\n",
    "print(f\"Teste: {X_test_prep.shape}, Target: {y_test.shape}\")"
   ]
  },
  {
   "cell_type": "code",
   "execution_count": 0,
   "metadata": {
    "application/vnd.databricks.v1+cell": {
     "cellMetadata": {
      "byteLimit": 2048000,
      "rowLimit": 10000
     },
     "inputWidgets": {},
     "nuid": "f5b76e00-ee85-427f-999f-55c38861bb8a",
     "showTitle": false,
     "tableResultSettingsMap": {},
     "title": ""
    }
   },
   "outputs": [],
   "source": [
    "# 1. Nomes das features numéricas (não mudam)\n",
    "numeric_features_transformed = numerical_features  \n",
    "\n",
    "# 2. Nomes das features categóricas (após remoção)\n",
    "categorical_features_kept = [col for col in categorical_features if col not in cols_to_drop]\n",
    "\n",
    "# 3. Juntar todas as features (ordem igual à saída do ColumnTransformer)\n",
    "feature_names = numeric_features_transformed + categorical_features_kept\n",
    "\n",
    "print(\"Nomes das features após pré-processamento:\\n\", feature_names)"
   ]
  },
  {
   "cell_type": "markdown",
   "metadata": {
    "application/vnd.databricks.v1+cell": {
     "cellMetadata": {},
     "inputWidgets": {},
     "nuid": "8e2ff634-8399-4853-a771-52e9c06cab6e",
     "showTitle": false,
     "tableResultSettingsMap": {},
     "title": ""
    }
   },
   "source": [
    "## Modeling\n"
   ]
  },
  {
   "cell_type": "markdown",
   "metadata": {
    "application/vnd.databricks.v1+cell": {
     "cellMetadata": {},
     "inputWidgets": {},
     "nuid": "0a5fc72c-6de6-416a-9d1a-9cc48beb030b",
     "showTitle": false,
     "tableResultSettingsMap": {},
     "title": ""
    }
   },
   "source": [
    "### Func"
   ]
  },
  {
   "cell_type": "code",
   "execution_count": 0,
   "metadata": {
    "application/vnd.databricks.v1+cell": {
     "cellMetadata": {
      "byteLimit": 2048000,
      "rowLimit": 10000
     },
     "inputWidgets": {},
     "nuid": "9044db7d-1895-446d-9448-514c9c28e272",
     "showTitle": false,
     "tableResultSettingsMap": {},
     "title": ""
    }
   },
   "outputs": [],
   "source": [
    "from sklearn.model_selection import RepeatedStratifiedKFold,cross_val_score\n",
    "from sklearn.metrics import (roc_auc_score,\n",
    "                             roc_curve,\n",
    "                            accuracy_score,\n",
    "                            RocCurveDisplay,\n",
    "                            confusion_matrix,\n",
    "                            precision_recall_curve,\n",
    "                            classification_report,f1_score, mean_squared_error)\n",
    "\n",
    "import seaborn as sns"
   ]
  },
  {
   "cell_type": "code",
   "execution_count": 0,
   "metadata": {
    "application/vnd.databricks.v1+cell": {
     "cellMetadata": {
      "byteLimit": 2048000,
      "rowLimit": 10000
     },
     "collapsed": true,
     "inputWidgets": {},
     "nuid": "958e7bfb-7038-4c81-9264-a92551a255e2",
     "showTitle": false,
     "tableResultSettingsMap": {},
     "title": ""
    }
   },
   "outputs": [],
   "source": [
    "def plot_metric(y_val,y_probs):\n",
    "    fpr,tpr,_ = roc_curve(y_val,y_probs)   \n",
    "    rocauc_score = roc_auc_score(y_val,y_probs)\n",
    "    print(f'ROC AUC SCORE: {(rocauc_score):.2f}')\n",
    "\n",
    "    precison,recalls,thresholds = precision_recall_curve(y_val,y_probs)  \n",
    "    precision_score = precision_recall_curve(y_val,y_probs)\n",
    "    print(f'Precision Score: {precision_score}')\n",
    "    print(f'Recall Score: {recalls}')\n",
    "\n",
    "    fig = plt.figure(figsize=(8,6))\n",
    "    plt.subplot(1,2,1)\n",
    "    RocCurveDisplay(fpr=fpr,tpr=tpr).plot()\n",
    "\n",
    "    plt.subplot(1,2,2)\n",
    "    plt.plot(thresholds,precison[:-1],\"b--\",label=\"Precision\")\n",
    "    plt.plot(thresholds,recalls[:-1],\"b--\",label=\"Recall\")\n",
    "   \n",
    "    \n"
   ]
  },
  {
   "cell_type": "code",
   "execution_count": 0,
   "metadata": {
    "application/vnd.databricks.v1+cell": {
     "cellMetadata": {
      "byteLimit": 2048000,
      "rowLimit": 10000
     },
     "collapsed": true,
     "inputWidgets": {},
     "nuid": "438e3314-84ee-41e3-8918-4ce055eecede",
     "showTitle": false,
     "tableResultSettingsMap": {},
     "title": ""
    }
   },
   "outputs": [],
   "source": [
    "def model(classifier, x_train, y_train, x_val, y_val):\n",
    "    # Fit the classifier\n",
    "    classifier.fit(x_train, y_train)\n",
    "    y_pred = classifier.predict(x_val)\n",
    "    y_probs = classifier.predict_proba(x_val)[:, 1]\n",
    "\n",
    "    # Cross-validation\n",
    "    cv = RepeatedStratifiedKFold(n_splits=10, n_repeats=3, random_state=42)\n",
    "    cross_score = cross_val_score(classifier, x_train, y_train, cv=cv, scoring='roc_auc')\n",
    "    print(f'Cross Validation Score: {cross_score.mean():.2f}')\n",
    "    print(f'Cross Validation Std: {cross_score.std():.2f}')\n",
    "\n",
    "    # ROC Curve\n",
    "    fpr, tpr, _ = roc_curve(y_val, y_probs)\n",
    "    roc_auc = roc_auc_score(y_val, y_probs)\n",
    "    print(f'ROC AUC SCORE: {roc_auc:.2f}')\n",
    "\n",
    "    # Precision-Recall Curve\n",
    "    precision, recall, thresholds = precision_recall_curve(y_val, y_probs)\n",
    "\n",
    "    # Plotting\n",
    "    fig, axs = plt.subplots(1, 2, figsize=(14, 6))\n",
    "\n",
    "    # ROC Curve plot\n",
    "    axs[0].plot(fpr, tpr, color='darkorange', lw=2, label=f'ROC curve (AUC = {roc_auc:.2f})')\n",
    "    axs[0].plot([0, 1], [0, 1], color='navy', lw=1, linestyle='--')\n",
    "    axs[0].set_xlim([0.0, 1.0])\n",
    "    axs[0].set_ylim([0.0, 1.05])\n",
    "    axs[0].set_xlabel('False Positive Rate')\n",
    "    axs[0].set_ylabel('True Positive Rate')\n",
    "    axs[0].set_title('ROC Curve')\n",
    "    axs[0].legend(loc=\"lower right\")\n",
    "\n",
    "    # Precision-Recall Curve plot\n",
    "    axs[1].plot(thresholds, precision[:-1], label='Precision', color='green')\n",
    "    axs[1].plot(thresholds, recall[:-1], label='Recall', color='blue')\n",
    "    axs[1].set_xlabel('Threshold')\n",
    "    axs[1].set_ylabel('Score')\n",
    "    axs[1].set_title('Precision-Recall vs Threshold')\n",
    "    axs[1].legend()\n",
    "\n",
    "    plt.tight_layout()\n",
    "    plt.show()\n"
   ]
  },
  {
   "cell_type": "code",
   "execution_count": 0,
   "metadata": {
    "application/vnd.databricks.v1+cell": {
     "cellMetadata": {
      "byteLimit": 2048000,
      "rowLimit": 10000
     },
     "collapsed": true,
     "inputWidgets": {},
     "nuid": "50d20bcf-7397-4ce6-920e-94d4a944eb80",
     "showTitle": false,
     "tableResultSettingsMap": {},
     "title": ""
    }
   },
   "outputs": [],
   "source": [
    "def model_evaluation(classifier,x_test,y_test):\n",
    "    cm = confusion_matrix(y_test,classifier.predict(x_test))\n",
    "    names = ['True Neg','False Pos','False Neg','True Pos']\n",
    "    counts = [value for value in cm.flatten()]\n",
    "    percentages = ['{0:.2%}'.format(value) for value in cm.flatten()/np.sum(cm)]\n",
    "    labels = [f'{v1}\\n{v2}\\n{v3}' for v1, v2, v3 in zip(names,counts,percentages)]\n",
    "    labels = np.asarray(labels).reshape(2,2)\n",
    "    sns.heatmap(cm,annot = labels,cmap = 'Blues',fmt ='')\n",
    "    plt.title('Matriz de Confusão')\n",
    "    plt.show()\n",
    "    \n",
    " \n",
    "    print(classification_report(y_test,classifier.predict(x_test)))"
   ]
  },
  {
   "cell_type": "markdown",
   "metadata": {
    "application/vnd.databricks.v1+cell": {
     "cellMetadata": {},
     "inputWidgets": {},
     "nuid": "5a7fe23c-b573-47ca-9cbe-1f9b35e55530",
     "showTitle": false,
     "tableResultSettingsMap": {},
     "title": ""
    }
   },
   "source": [
    "### XGbosstClasifier"
   ]
  },
  {
   "cell_type": "markdown",
   "metadata": {
    "application/vnd.databricks.v1+cell": {
     "cellMetadata": {},
     "inputWidgets": {},
     "nuid": "87ef0335-b42c-44ae-a963-6ab6d8619bce",
     "showTitle": false,
     "tableResultSettingsMap": {},
     "title": ""
    }
   },
   "source": [
    "#### Busca dos melhores parametros com Optuna"
   ]
  },
  {
   "cell_type": "code",
   "execution_count": 0,
   "metadata": {
    "application/vnd.databricks.v1+cell": {
     "cellMetadata": {
      "byteLimit": 2048000,
      "rowLimit": 10000
     },
     "inputWidgets": {},
     "nuid": "467b9e16-2257-491e-ac8c-426ebaa61d20",
     "showTitle": false,
     "tableResultSettingsMap": {},
     "title": ""
    }
   },
   "outputs": [],
   "source": [
    "!pip install optuna"
   ]
  },
  {
   "cell_type": "code",
   "execution_count": 0,
   "metadata": {
    "application/vnd.databricks.v1+cell": {
     "cellMetadata": {
      "byteLimit": 2048000,
      "rowLimit": 10000
     },
     "inputWidgets": {},
     "nuid": "80415ccf-51a3-4634-8000-ac64117867bc",
     "showTitle": false,
     "tableResultSettingsMap": {},
     "title": ""
    }
   },
   "outputs": [],
   "source": [
    "def objective(trial):\n",
    "    params = {\n",
    "        \"objective\": \"reg:squarederror\",\n",
    "        \"n_estimators\": 1000,\n",
    "        \"verbosity\": 0,\n",
    "        \"learning_rate\": trial.suggest_float(\"learning_rate\", 1e-3, 0.1, log=True),\n",
    "        \"max_depth\": trial.suggest_int(\"max_depth\", 1, 10),\n",
    "        \"subsample\": trial.suggest_float(\"subsample\", 0.05, 1.0),\n",
    "        \"colsample_bytree\": trial.suggest_float(\"colsample_bytree\", 0.05, 1.0),\n",
    "        \"min_child_weight\": trial.suggest_int(\"min_child_weight\", 1, 20),\n",
    "    }\n",
    "\n",
    "    model = XGBClassifier(**params)\n",
    "    model.fit(X_train_smote, y_train_smote, verbose=False)\n",
    "    predictions = model.predict(X_val_prep)\n",
    "    rmse = mean_squared_error(y_val_prep, predictions)\n",
    "    return rmse"
   ]
  },
  {
   "cell_type": "code",
   "execution_count": 0,
   "metadata": {
    "application/vnd.databricks.v1+cell": {
     "cellMetadata": {
      "byteLimit": 2048000,
      "rowLimit": 10000
     },
     "inputWidgets": {},
     "nuid": "e40b8b91-d1a5-40a2-aaba-76fb1d0cfc2a",
     "showTitle": false,
     "tableResultSettingsMap": {},
     "title": ""
    }
   },
   "outputs": [],
   "source": [
    "import optuna\n",
    "study = optuna.create_study(direction='minimize')\n",
    "study.optimize(objective, n_trials=30)\n"
   ]
  },
  {
   "cell_type": "code",
   "execution_count": 0,
   "metadata": {
    "application/vnd.databricks.v1+cell": {
     "cellMetadata": {
      "byteLimit": 2048000,
      "rowLimit": 10000
     },
     "inputWidgets": {},
     "nuid": "0354010c-373c-4097-9f37-e9f373874b85",
     "showTitle": false,
     "tableResultSettingsMap": {},
     "title": ""
    }
   },
   "outputs": [],
   "source": [
    "print('Melhores hiperparâmetros:', study.best_params)\n",
    "print('Melhor RMSE:', study.best_value)"
   ]
  },
  {
   "cell_type": "markdown",
   "metadata": {
    "application/vnd.databricks.v1+cell": {
     "cellMetadata": {},
     "inputWidgets": {},
     "nuid": "e374e8a7-4838-4023-9a05-0d5c1e540077",
     "showTitle": false,
     "tableResultSettingsMap": {},
     "title": ""
    }
   },
   "source": [
    "#### Sem Otimização dos hiperparametros"
   ]
  },
  {
   "cell_type": "code",
   "execution_count": 0,
   "metadata": {
    "application/vnd.databricks.v1+cell": {
     "cellMetadata": {
      "byteLimit": 2048000,
      "rowLimit": 10000
     },
     "inputWidgets": {},
     "nuid": "6cc0b0b7-da35-4224-8751-031cb00d77a5",
     "showTitle": false,
     "tableResultSettingsMap": {},
     "title": ""
    }
   },
   "outputs": [],
   "source": [
    "from xgboost import XGBClassifier\n",
    "\n",
    "xgb_classifier = XGBClassifier(learning_rate=0.001,\n",
    "                               max_depth=5,\n",
    "                               n_estimators=1000,\n",
    "                                subsample=0.8,\n",
    "                                colsample_bytree=0.7,\n",
    "                               random_state=42)\n",
    "\n",
    "\n",
    "model(xgb_classifier,X_train_smote,y_train_smote,X_val_prep,y_val)\n",
    "model_evaluation(xgb_classifier,X_val_prep,y_val)"
   ]
  },
  {
   "cell_type": "code",
   "execution_count": 0,
   "metadata": {
    "application/vnd.databricks.v1+cell": {
     "cellMetadata": {},
     "inputWidgets": {},
     "nuid": "7bc4457d-922c-472f-8284-f2c793a1a19c",
     "showTitle": false,
     "tableResultSettingsMap": {},
     "title": ""
    }
   },
   "outputs": [],
   "source": [
    "xgb_classifier = XGBClassifier(learning_rate=0.001,\n",
    "                               max_depth=5,\n",
    "                               n_estimators=1000,\n",
    "                                subsample=0.8,\n",
    "                                colsample_bytree=0.7,\n",
    "                               random_state=42)\n",
    "\n",
    "\n",
    "model(xgb_classifier,X_train_prep,y_train_prep,X_val_prep,y_val)\n",
    "model_evaluation(xgb_classifier,X_val_prep,y_val)"
   ]
  },
  {
   "cell_type": "markdown",
   "metadata": {
    "application/vnd.databricks.v1+cell": {
     "cellMetadata": {},
     "inputWidgets": {},
     "nuid": "48c140e6-7ab3-4f29-b5fe-b90556e78ea9",
     "showTitle": false,
     "tableResultSettingsMap": {},
     "title": ""
    }
   },
   "source": [
    "%md\n",
    "#### Com Otimização dos hiperparametros"
   ]
  },
  {
   "cell_type": "code",
   "execution_count": 0,
   "metadata": {
    "application/vnd.databricks.v1+cell": {
     "cellMetadata": {
      "byteLimit": 2048000,
      "rowLimit": 10000
     },
     "inputWidgets": {},
     "nuid": "5dc41678-3e8a-4387-96c6-05cc43fe3c78",
     "showTitle": false,
     "tableResultSettingsMap": {},
     "title": ""
    }
   },
   "outputs": [],
   "source": [
    "\n",
    "xgb_classifier = XGBClassifier(learning_rate=0.021160840396171342,\n",
    "                               max_depth=7,\n",
    "                               n_estimators=700,\n",
    "                                subsample=0.8120575211020147,\n",
    "                                colsample_bytree=0.1441064068410362,\n",
    "                                min_child_weight=1,\n",
    "                               random_state=42)\n",
    "\n",
    "\n",
    "model(xgb_classifier,X_train_smote,y_train_smote,X_val_prep,y_val)\n",
    "model_evaluation(xgb_classifier,X_val_prep,y_val)"
   ]
  },
  {
   "cell_type": "code",
   "execution_count": 0,
   "metadata": {
    "application/vnd.databricks.v1+cell": {
     "cellMetadata": {
      "byteLimit": 2048000,
      "rowLimit": 10000
     },
     "inputWidgets": {},
     "nuid": "3fdbd6de-af5a-4217-a3f7-51c4c60fd8b8",
     "showTitle": false,
     "tableResultSettingsMap": {},
     "title": ""
    }
   },
   "outputs": [],
   "source": [
    "from xgboost import plot_importance\n",
    "\n",
    "# Método 1: Usar get_booster() para atribuir nomes\n",
    "xgb_classifier.get_booster().feature_names = feature_names\n",
    "\n",
    "# Plotar importância\n",
    "plt.figure(figsize=(12, 8))\n",
    "plot_importance(xgb_classifier, max_num_features=20,importance_type='weight')\n",
    "plt.title('Importância das Features - Weight')\n",
    "\n",
    "plot_importance(xgb_classifier, max_num_features=20,importance_type='cover')\n",
    "plt.title('Importância das Features - cover')\n",
    "plt.show()"
   ]
  },
  {
   "cell_type": "markdown",
   "metadata": {
    "application/vnd.databricks.v1+cell": {
     "cellMetadata": {},
     "inputWidgets": {},
     "nuid": "8915e122-e3de-4577-a492-13840a05132a",
     "showTitle": false,
     "tableResultSettingsMap": {},
     "title": ""
    }
   },
   "source": [
    "### LGBM\n"
   ]
  },
  {
   "cell_type": "code",
   "execution_count": 0,
   "metadata": {
    "application/vnd.databricks.v1+cell": {
     "cellMetadata": {
      "byteLimit": 2048000,
      "rowLimit": 10000
     },
     "inputWidgets": {},
     "nuid": "8d181e59-533c-424d-a081-2e713c586c11",
     "showTitle": false,
     "tableResultSettingsMap": {},
     "title": ""
    }
   },
   "outputs": [],
   "source": [
    "!pip install lightgbm\n",
    "from lightgbm import LGBMClassifier"
   ]
  },
  {
   "cell_type": "code",
   "execution_count": 0,
   "metadata": {
    "application/vnd.databricks.v1+cell": {
     "cellMetadata": {
      "byteLimit": 2048000,
      "rowLimit": 10000
     },
     "inputWidgets": {},
     "nuid": "8c66a9d2-f6aa-42a3-be22-a92d63f8e286",
     "showTitle": false,
     "tableResultSettingsMap": {},
     "title": ""
    }
   },
   "outputs": [],
   "source": [
    "def objective(trial):\n",
    "    params = {\n",
    "        \n",
    "        \"metric\": \"binary\",\n",
    "        \"n_estimators\": 1000,\n",
    "        \"verbosity\": -1,\n",
    "        \"bagging_freq\": 1,\n",
    "        \"learning_rate\": trial.suggest_float(\"learning_rate\", 1e-3, 0.1, log=True),\n",
    "        \"num_leaves\": trial.suggest_int(\"num_leaves\", 2, 2**10),\n",
    "        \"subsample\": trial.suggest_float(\"subsample\", 0.05, 1.0),\n",
    "        \"colsample_bytree\": trial.suggest_float(\"colsample_bytree\", 0.05, 1.0),\n",
    "        \"min_data_in_leaf\": trial.suggest_int(\"min_data_in_leaf\", 1, 100),\n",
    "    }\n",
    "\n",
    "    model = LGBMClassifier(**params)\n",
    "    model.fit(X_train, y_train)\n",
    "    predictions = model.predict(X_val)\n",
    "    f1 = f1_score(y_val, predictions)\n",
    "    return f1"
   ]
  },
  {
   "cell_type": "code",
   "execution_count": 0,
   "metadata": {
    "application/vnd.databricks.v1+cell": {
     "cellMetadata": {
      "byteLimit": 2048000,
      "rowLimit": 10000
     },
     "inputWidgets": {},
     "nuid": "76953695-0aeb-43e0-b8d9-a700b9b286a8",
     "showTitle": false,
     "tableResultSettingsMap": {},
     "title": ""
    }
   },
   "outputs": [],
   "source": [
    "# # study_lgbm = optuna.create_study(direction='minimize')\n",
    "# # study_lgbm.optimize(objective, n_trials=30)\n",
    "# print('Melhores hiperparâmetros:', study_lgbm.best_params)\n",
    "# print('Melhor RMSE:', study_lgbm.best_value)"
   ]
  },
  {
   "cell_type": "code",
   "execution_count": 0,
   "metadata": {
    "application/vnd.databricks.v1+cell": {
     "cellMetadata": {
      "byteLimit": 2048000,
      "rowLimit": 10000
     },
     "inputWidgets": {},
     "nuid": "9d2e78c2-ca73-4774-82f5-aa4cb7f66c20",
     "showTitle": false,
     "tableResultSettingsMap": {},
     "title": ""
    }
   },
   "outputs": [],
   "source": [
    "study_lgbm2 = optuna.create_study(direction='maximize')\n",
    "study_lgbm2.optimize(objective, n_trials=30)\n",
    "print('Melhores hiperparâmetros:', study_lgbm2.best_params)\n",
    "print('Melhor RMSE:', study_lgbm2.best_value)"
   ]
  },
  {
   "cell_type": "code",
   "execution_count": 0,
   "metadata": {
    "application/vnd.databricks.v1+cell": {
     "cellMetadata": {
      "byteLimit": 2048000,
      "rowLimit": 10000
     },
     "inputWidgets": {},
     "nuid": "03663bd6-a8bf-4690-960f-a93062b65dc8",
     "showTitle": false,
     "tableResultSettingsMap": {},
     "title": ""
    }
   },
   "outputs": [],
   "source": [
    "classifier_lgbm = LGBMClassifier(learning_rate= 0.014511147170945548,\n",
    "                                 max_depth = 123,\n",
    "                                 subsample=0.12900147519059652,\n",
    "                                 colsample_bytree=0.4668403391748687,\n",
    "                                 min_data_in_leaf= 75,\n",
    "                                 n_estimators = 1000)\n",
    "\n",
    "\n",
    "model(classifier_lgbm,X_train_smote,y_train_smote,X_val_prep,y_val)\n",
    "model_evaluation(classifier_lgbm,X_val_prep,y_val)\n"
   ]
  },
  {
   "cell_type": "code",
   "execution_count": 0,
   "metadata": {
    "application/vnd.databricks.v1+cell": {
     "cellMetadata": {
      "byteLimit": 2048000,
      "rowLimit": 10000
     },
     "inputWidgets": {},
     "nuid": "f1ed9490-8085-485d-b820-5b71f0e150f1",
     "showTitle": false,
     "tableResultSettingsMap": {},
     "title": ""
    }
   },
   "outputs": [],
   "source": [
    "classifier_lgbm = LGBMClassifier(learning_rate= 0.06078628608330118,\n",
    "                                 max_depth = 700,\n",
    "                                 subsample=0.07546964460988906,\n",
    "                                 colsample_bytree=0.21716907803240054,\n",
    "                                 min_data_in_leaf= 80,\n",
    "                                 n_estimators = 1000)\n",
    "\n",
    "\n",
    "model(classifier_lgbm,X_train_smote,y_train_smote,X_val_prep,y_val)\n",
    "model_evaluation(classifier_lgbm,X_val_prep,y_val)"
   ]
  },
  {
   "cell_type": "code",
   "execution_count": 0,
   "metadata": {
    "application/vnd.databricks.v1+cell": {
     "cellMetadata": {},
     "inputWidgets": {},
     "nuid": "f36788f1-4c5d-40e7-a194-900b7a38e1d0",
     "showTitle": false,
     "tableResultSettingsMap": {},
     "title": ""
    }
   },
   "outputs": [],
   "source": [
    "# Melhores hiperparâmetros: {'learning_rate': 0.06078628608330118, 'num_leaves': 700, 'subsample': 0.07546964460988906, 'colsample_bytree': 0.21716907803240054, 'min_data_in_leaf': 80}\n",
    "# Melhor RMSE: 0.6133720930232558"
   ]
  }
 ],
 "metadata": {
  "application/vnd.databricks.v1+notebook": {
   "computePreferences": null,
   "dashboards": [],
   "environmentMetadata": {
    "base_environment": "",
    "environment_version": "2"
   },
   "inputWidgetPreferences": null,
   "language": "python",
   "notebookMetadata": {
    "pythonIndentUnit": 4
   },
   "notebookName": "modelagem.ipynb",
   "widgets": {}
  },
  "language_info": {
   "name": "python"
  }
 },
 "nbformat": 4,
 "nbformat_minor": 0
}
